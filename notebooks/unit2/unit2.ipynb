{
  "cells": [
    {
      "cell_type": "markdown",
      "metadata": {
        "id": "view-in-github",
        "colab_type": "text"
      },
      "source": [
        "<a href=\"https://colab.research.google.com/github/1613954186/virtuous_circle/blob/main/notebooks/unit2/unit2.ipynb\" target=\"_parent\"><img src=\"https://colab.research.google.com/assets/colab-badge.svg\" alt=\"Open In Colab\"/></a>"
      ]
    },
    {
      "cell_type": "markdown",
      "metadata": {
        "id": "njb_ProuHiOe"
      },
      "source": [
        "# Unit 2: Q-Learning with FrozenLake-v1 ⛄ and Taxi-v3 🚕\n",
        "\n",
        "<img src=\"https://huggingface.co/datasets/huggingface-deep-rl-course/course-images/resolve/main/en/unit3/thumbnail.jpg\" alt=\"Unit 2 Thumbnail\">\n",
        "\n",
        "In this notebook, **you'll code your first Reinforcement Learning agent from scratch** to play FrozenLake ❄️ using Q-Learning, share it with the community, and experiment with different configurations.\n",
        "\n",
        "⬇️ Here is an example of what **you will achieve in just a couple of minutes.** ⬇️\n"
      ]
    },
    {
      "cell_type": "markdown",
      "metadata": {
        "id": "vRU_vXBrl1Jx"
      },
      "source": [
        "<img src=\"https://huggingface.co/datasets/huggingface-deep-rl-course/course-images/resolve/main/en/unit3/envs.gif\" alt=\"Environments\"/>"
      ]
    },
    {
      "cell_type": "markdown",
      "source": [
        "###🎮 Environments:\n",
        "\n",
        "- [FrozenLake-v1](https://gymnasium.farama.org/environments/toy_text/frozen_lake/)\n",
        "- [Taxi-v3](https://gymnasium.farama.org/environments/toy_text/taxi/)\n",
        "\n",
        "###📚 RL-Library:\n",
        "\n",
        "- Python and NumPy\n",
        "- [Gymnasium](https://gymnasium.farama.org/)\n",
        "\n",
        "We're constantly trying to improve our tutorials, so **if you find some issues in this notebook**, please [open an issue on the GitHub Repo](https://github.com/huggingface/deep-rl-class/issues)."
      ],
      "metadata": {
        "id": "DPTBOv9HYLZ2"
      }
    },
    {
      "cell_type": "markdown",
      "metadata": {
        "id": "4i6tjI2tHQ8j"
      },
      "source": [
        "## Objectives of this notebook 🏆\n",
        "\n",
        "At the end of the notebook, you will:\n",
        "\n",
        "- Be able to use **Gymnasium**, the environment library.\n",
        "- Be able to code a Q-Learning agent from scratch.\n",
        "- Be able to **push your trained agent and the code to the Hub** with a nice video replay and an evaluation score 🔥.\n",
        "\n",
        "\n"
      ]
    },
    {
      "cell_type": "markdown",
      "source": [
        "## This notebook is from the Deep Reinforcement Learning Course\n",
        "\n",
        "<img src=\"https://huggingface.co/datasets/huggingface-deep-rl-course/course-images/resolve/main/en/notebooks/deep-rl-course-illustration.jpg\" alt=\"Deep RL Course illustration\"/>"
      ],
      "metadata": {
        "id": "viNzVbVaYvY3"
      }
    },
    {
      "cell_type": "markdown",
      "metadata": {
        "id": "6p5HnEefISCB"
      },
      "source": [
        "In this free course, you will:\n",
        "\n",
        "- 📖 Study Deep Reinforcement Learning in **theory and practice**.\n",
        "- 🧑‍💻 Learn to **use famous Deep RL libraries** such as Stable Baselines3, RL Baselines3 Zoo, CleanRL and Sample Factory 2.0.\n",
        "- 🤖 Train **agents in unique environments**\n",
        "\n",
        "And more check 📚 the syllabus 👉 https://simoninithomas.github.io/deep-rl-course\n",
        "\n",
        "Don’t forget to **<a href=\"http://eepurl.com/ic5ZUD\">sign up to the course</a>** (we are collecting your email to be able to **send you the links when each Unit is published and give you information about the challenges and updates).**\n",
        "\n",
        "\n",
        "The best way to keep in touch is to join our discord server to exchange with the community and with us 👉🏻 https://discord.gg/ydHrjt3WP5"
      ]
    },
    {
      "cell_type": "markdown",
      "metadata": {
        "id": "Y-mo_6rXIjRi"
      },
      "source": [
        "## Prerequisites 🏗️\n",
        "\n",
        "Before diving into the notebook, you need to:\n",
        "\n",
        "🔲 📚 **Study [Q-Learning by reading Unit 2](https://huggingface.co/deep-rl-course/unit2/introduction)**  🤗  "
      ]
    },
    {
      "cell_type": "markdown",
      "metadata": {
        "id": "f2ONOODsyrMU"
      },
      "source": [
        "## A small recap of Q-Learning"
      ]
    },
    {
      "cell_type": "markdown",
      "metadata": {
        "id": "V68VveLacfxJ"
      },
      "source": [
        "*Q-Learning* **is the RL algorithm that**:\n",
        "\n",
        "- Trains *Q-Function*, an **action-value function** that encoded, in internal memory, by a *Q-table* **that contains all the state-action pair values.**\n",
        "\n",
        "- Given a state and action, our Q-Function **will search the Q-table for the corresponding value.**\n",
        "    \n",
        "<img src=\"https://huggingface.co/datasets/huggingface-deep-rl-course/course-images/resolve/main/en/unit3/Q-function-2.jpg\" alt=\"Q function\"  width=\"100%\"/>\n",
        "\n",
        "- When the training is done,**we have an optimal Q-Function, so an optimal Q-Table.**\n",
        "    \n",
        "- And if we **have an optimal Q-function**, we\n",
        "have an optimal policy, since we **know for, each state, the best action to take.**\n",
        "\n",
        "<img src=\"https://huggingface.co/datasets/huggingface-deep-rl-course/course-images/resolve/main/en/unit3/link-value-policy.jpg\" alt=\"Link value policy\"  width=\"100%\"/>\n",
        "\n",
        "\n",
        "But, in the beginning, our **Q-Table is useless since it gives arbitrary value for each state-action pair (most of the time we initialize the Q-Table to 0 values)**. But, as we’ll explore the environment and update our Q-Table it will give us better and better approximations\n",
        "\n",
        "<img src=\"https://huggingface.co/datasets/huggingface-deep-rl-course/course-images/resolve/main/en/notebooks/unit2/q-learning.jpeg\" alt=\"q-learning.jpeg\" width=\"100%\"/>\n",
        "\n",
        "This is the Q-Learning pseudocode:\n",
        "\n",
        "<img src=\"https://huggingface.co/datasets/huggingface-deep-rl-course/course-images/resolve/main/en/unit3/Q-learning-2.jpg\" alt=\"Q-Learning\" width=\"100%\"/>\n"
      ]
    },
    {
      "cell_type": "markdown",
      "source": [
        "# Let's code our first Reinforcement Learning algorithm 🚀"
      ],
      "metadata": {
        "id": "HEtx8Y8MqKfH"
      }
    },
    {
      "cell_type": "markdown",
      "source": [
        "To validate this hands-on for the [certification process](https://huggingface.co/deep-rl-course/en/unit0/introduction#certification-process), you need to push your trained Taxi model to the Hub and **get a result of >= 4.5**.\n",
        "\n",
        "To find your result, go to the [leaderboard](https://huggingface.co/spaces/huggingface-projects/Deep-Reinforcement-Learning-Leaderboard) and find your model, **the result = mean_reward - std of reward**\n",
        "\n",
        "For more information about the certification process, check this section 👉 https://huggingface.co/deep-rl-course/en/unit0/introduction#certification-process"
      ],
      "metadata": {
        "id": "Kdxb1IhzTn0v"
      }
    },
    {
      "cell_type": "markdown",
      "source": [
        "## Install dependencies and create a virtual display 🔽\n",
        "\n",
        "\n",
        "\n",
        "We’ll install multiple ones:\n",
        "\n",
        "- `gymnasium`: Contains the FrozenLake-v1 ⛄ and Taxi-v3 🚕 environments.\n",
        "- `pygame`: Used for the FrozenLake-v1 and Taxi-v3 UI.\n",
        "- `numpy`: Used for handling our Q-table.\n",
        "\n",
        "The Hugging Face Hub 🤗 works as a central place where anyone can share and explore models and datasets. It has versioning, metrics, visualizations and other features that will allow you to easily collaborate with others.\n",
        "\n",
        "You can see here all the Deep RL models available (if they use Q Learning) here 👉 https://huggingface.co/models?other=q-learning"
      ],
      "metadata": {
        "id": "4gpxC1_kqUYe"
      }
    },
    {
      "cell_type": "markdown",
      "source": [
        "安装下述这些东西后，后面才能import"
      ],
      "metadata": {
        "id": "UV5N8jCANbaN"
      }
    },
    {
      "cell_type": "code",
      "execution_count": null,
      "metadata": {
        "id": "9XaULfDZDvrC",
        "collapsed": true
      },
      "outputs": [],
      "source": [
        "!pip install -r https://raw.githubusercontent.com/DennisHeesmans/deep-rl-class/unit2/notebooks/unit2/requirements-unit2.txt"
      ]
    },
    {
      "cell_type": "markdown",
      "source": [
        "In the notebook, we'll need to generate a replay video. To do so, with Colab, **we need to have a virtual screen to render the environment** (and thus record the frames).\n",
        "\n",
        "Hence the following cell will install the libraries and create and run a virtual screen 🖥"
      ],
      "metadata": {
        "id": "DNRosELQpQhC"
      }
    },
    {
      "cell_type": "code",
      "source": [
        "!sudo apt-get update\n",
        "!sudo apt-get install -y python3-opengl\n",
        "!apt install ffmpeg xvfb\n",
        "!pip3 install pyvirtualdisplay"
      ],
      "metadata": {
        "id": "n71uTX7qqzz2",
        "collapsed": true
      },
      "execution_count": null,
      "outputs": []
    },
    {
      "cell_type": "markdown",
      "source": [
        "To make sure the new installed libraries are used, **sometimes it's required to restart the notebook runtime**. The next cell will force the **runtime to crash, so you'll need to connect again and run the code starting from here**. Thanks to this trick, **we will be able to run our virtual screen.**"
      ],
      "metadata": {
        "id": "K6XC13pTfFiD"
      }
    },
    {
      "cell_type": "code",
      "source": [
        "import os\n",
        "os.kill(os.getpid(), 9)"
      ],
      "metadata": {
        "id": "3kuZbWAkfHdg"
      },
      "execution_count": null,
      "outputs": []
    },
    {
      "cell_type": "code",
      "source": [
        "# Virtual display\n",
        "from pyvirtualdisplay import Display\n",
        "\n",
        "virtual_display = Display(visible=0, size=(1400, 900))\n",
        "virtual_display.start()"
      ],
      "metadata": {
        "id": "DaY1N4dBrabi"
      },
      "execution_count": null,
      "outputs": []
    },
    {
      "cell_type": "markdown",
      "metadata": {
        "id": "W-7f-Swax_9x"
      },
      "source": [
        "## Import the packages 📦\n",
        "\n",
        "In addition to the installed libraries, we also use:\n",
        "\n",
        "- `random`: To generate random numbers (that will be useful for epsilon-greedy policy).\n",
        "- `imageio`: To generate a replay video."
      ]
    },
    {
      "cell_type": "code",
      "execution_count": null,
      "metadata": {
        "id": "VcNvOAQlysBJ"
      },
      "outputs": [],
      "source": [
        "import numpy as np\n",
        "import gymnasium as gym\n",
        "import random\n",
        "import imageio\n",
        "import os\n",
        "import tqdm\n",
        "\n",
        "import pickle\n",
        "from tqdm.notebook import tqdm"
      ]
    },
    {
      "cell_type": "markdown",
      "metadata": {
        "id": "xp4-bXKIy1mQ"
      },
      "source": [
        "We're now ready to code our Q-Learning algorithm 🔥"
      ]
    },
    {
      "cell_type": "markdown",
      "metadata": {
        "id": "xya49aNJWVvv"
      },
      "source": [
        "# Part 1: Frozen Lake ⛄ (non slippery version)"
      ]
    },
    {
      "cell_type": "markdown",
      "metadata": {
        "id": "NAvihuHdy9tw"
      },
      "source": [
        "## Create and understand [FrozenLake environment ⛄]((https://gymnasium.farama.org/environments/toy_text/frozen_lake/)\n",
        "---\n",
        "\n",
        "💡 A good habit when you start to use an environment is to check its documentation\n",
        "\n",
        "👉 https://gymnasium.farama.org/environments/toy_text/frozen_lake/\n",
        "\n",
        "---\n",
        "\n",
        "We're going to train our Q-Learning agent **to navigate from the starting state (S) to the goal state (G) by walking only on frozen tiles (F) and avoid holes (H)**.\n",
        "\n",
        "We can have two sizes of environment:\n",
        "\n",
        "- `map_name=\"4x4\"`: a 4x4 grid version\n",
        "- `map_name=\"8x8\"`: a 8x8 grid version\n",
        "\n",
        "\n",
        "The environment has two modes:\n",
        "\n",
        "- `is_slippery=False`: The agent always moves **in the intended direction** due to the non-slippery nature of the frozen lake (deterministic).\n",
        "- `is_slippery=True`: The agent **may not always move in the intended direction** due to the slippery nature of the frozen lake (stochastic)."
      ]
    },
    {
      "cell_type": "markdown",
      "metadata": {
        "id": "UaW_LHfS0PY2"
      },
      "source": [
        "For now let's keep it simple with the 4x4 map and non-slippery.\n",
        "We add a parameter called `render_mode` that specifies how the environment should be visualised. In our case because we **want to record a video of the environment at the end, we need to set render_mode to rgb_array**.\n",
        "\n",
        "As [explained in the documentation](https://gymnasium.farama.org/api/env/#gymnasium.Env.render) “rgb_array”: Return a single frame representing the current state of the environment. A frame is a np.ndarray with shape (x, y, 3) representing RGB values for an x-by-y pixel image."
      ]
    },
    {
      "cell_type": "code",
      "execution_count": null,
      "metadata": {
        "id": "IzJnb8O3y8up"
      },
      "outputs": [],
      "source": [
        "# Create the FrozenLake-v1 environment using 4x4 map and non-slippery version and render_mode=\"rgb_array\"\n",
        "# map_name=\"4x4\" 指预加载地图（即出厂自带的默认地图）\n",
        "env = gym.make('FrozenLake-v1', map_name=\"4x4\", is_slippery=False, render_mode=\"rgb_array\") # TODO use the correct parameters"
      ]
    },
    {
      "cell_type": "markdown",
      "metadata": {
        "id": "Ji_UrI5l2zzn"
      },
      "source": [
        "### Solution"
      ]
    },
    {
      "cell_type": "code",
      "execution_count": null,
      "metadata": {
        "id": "jNxUbPMP0akP"
      },
      "outputs": [],
      "source": [
        "env = gym.make(\"FrozenLake-v1\", map_name=\"4x4\", is_slippery=False, render_mode=\"rgb_array\")"
      ]
    },
    {
      "cell_type": "markdown",
      "metadata": {
        "id": "KASNViqL4tZn"
      },
      "source": [
        "You can create your own custom grid like this:\n",
        "\n",
        "```python\n",
        "desc=[\"SFFF\", \"FHFH\", \"FFFH\", \"HFFG\"]\n",
        "gym.make('FrozenLake-v1', desc=desc, is_slippery=True)\n",
        "```\n",
        "\n",
        "but we'll use the default environment for now."
      ]
    },
    {
      "cell_type": "markdown",
      "metadata": {
        "id": "SXbTfdeJ1Xi9"
      },
      "source": [
        "### Let's see what the Environment looks like:\n"
      ]
    },
    {
      "cell_type": "code",
      "execution_count": null,
      "metadata": {
        "id": "ZNPG0g_UGCfh"
      },
      "outputs": [],
      "source": [
        "# We create our environment with gym.make(\"<name_of_the_environment>\")- `is_slippery=False`: The agent always moves in the intended direction due to the non-slippery nature of the frozen lake (deterministic).\n",
        "print(\"_____OBSERVATION SPACE_____ \\n\")\n",
        "print(\"Observation Space\", env.observation_space)\n",
        "print(\"Sample observation\", env.observation_space.sample()) # Get a random observation"
      ]
    },
    {
      "cell_type": "markdown",
      "metadata": {
        "id": "2MXc15qFE0M9"
      },
      "source": [
        "We see with `Observation Space Shape Discrete(16)` that the observation is an integer representing the **agent’s current position as current_row * ncols + current_col (where both the row and col start at 0)**.\n",
        "\n",
        "For example, the goal position in the 4x4 map can be calculated as follows: 3 * 4 + 3 = 15. The number of possible observations is dependent on the size of the map. **For example, the 4x4 map has 16 possible observations.**\n",
        "\n",
        "\n",
        "For instance, this is what state = 0 looks like:\n",
        "\n",
        "<img src=\"https://huggingface.co/datasets/huggingface-deep-rl-course/course-images/resolve/main/en/notebooks/unit2/frozenlake.png\" alt=\"FrozenLake\">"
      ]
    },
    {
      "cell_type": "code",
      "execution_count": null,
      "metadata": {
        "id": "We5WqOBGLoSm"
      },
      "outputs": [],
      "source": [
        "# env.action_space已经创建好的现成环境（frozenlake）\n",
        "\n",
        "print(\"\\n _____ACTION SPACE_____ \\n\")\n",
        "print(\"Action Space Shape\", env.action_space.n)\n",
        "print(\"Action Space Sample\", env.action_space.sample()) # Take a random action"
      ]
    },
    {
      "cell_type": "markdown",
      "metadata": {
        "id": "MyxXwkI2Magx"
      },
      "source": [
        "The action space (the set of possible actions the agent can take) is discrete with 4 actions available 🎮:\n",
        "- 0: GO LEFT\n",
        "- 1: GO DOWN\n",
        "- 2: GO RIGHT\n",
        "- 3: GO UP\n",
        "\n",
        "Reward function 💰:\n",
        "- Reach goal: +1\n",
        "- Reach hole: 0\n",
        "- Reach frozen: 0"
      ]
    },
    {
      "cell_type": "markdown",
      "metadata": {
        "id": "1pFhWblk3Awr"
      },
      "source": [
        "## Create and Initialize the Q-table 🗄️\n",
        "\n",
        "(👀 Step 1 of the pseudocode)\n",
        "\n",
        "<img src=\"https://huggingface.co/datasets/huggingface-deep-rl-course/course-images/resolve/main/en/unit3/Q-learning-2.jpg\" alt=\"Q-Learning\" width=\"100%\"/>\n",
        "\n",
        "\n",
        "It's time to initialize our Q-table! To know how many rows (states) and columns (actions) to use, we need to know the action and observation space. We already know their values from before, but we'll want to obtain them programmatically so that our algorithm generalizes for different environments. Gym provides us a way to do that: `env.action_space.n` and `env.observation_space.n`\n"
      ]
    },
    {
      "cell_type": "code",
      "execution_count": null,
      "metadata": {
        "id": "y3ZCdluj3k0l"
      },
      "outputs": [],
      "source": [
        "state_space = env.observation_space.n\n",
        "print(\"There are \", state_space, \" possible states\")\n",
        "\n",
        "action_space = env.action_space.n\n",
        "print(\"There are \", action_space, \" possible actions\")"
      ]
    },
    {
      "cell_type": "code",
      "execution_count": null,
      "metadata": {
        "id": "rCddoOXM3UQH"
      },
      "outputs": [],
      "source": [
        "# Let's create our Qtable of size (state_space, action_space) and initialized each values at 0 using np.zeros. np.zeros needs a tuple (a,b)\n",
        "# 在Python中，定义一个函数要使用def语句，依次写出函数名、括号、括号中的参数和冒号:，然后，在缩进块中编写函数体，函数的返回值用return语句返回。\n",
        "def initialize_q_table(a, b):\n",
        "  Qtable =np.zeros((a, b))\n",
        "  return Qtable"
      ]
    },
    {
      "cell_type": "code",
      "execution_count": null,
      "metadata": {
        "id": "9YfvrqRt3jdR"
      },
      "outputs": [],
      "source": [
        "Qtable_frozenlake = initialize_q_table(state_space, action_space)"
      ]
    },
    {
      "cell_type": "markdown",
      "metadata": {
        "id": "67OdoKL63eDD"
      },
      "source": [
        "### Solution"
      ]
    },
    {
      "cell_type": "code",
      "execution_count": null,
      "metadata": {
        "id": "HuTKv3th3ohG"
      },
      "outputs": [],
      "source": [
        "state_space = env.observation_space.n\n",
        "print(\"There are \", state_space, \" possible states\")\n",
        "\n",
        "action_space = env.action_space.n\n",
        "print(\"There are \", action_space, \" possible actions\")"
      ]
    },
    {
      "cell_type": "code",
      "execution_count": null,
      "metadata": {
        "id": "lnrb_nX33fJo"
      },
      "outputs": [],
      "source": [
        "# Let's create our Qtable of size (state_space, action_space) and initialized each values at 0 using np.zeros\n",
        "def initialize_q_table(state_space, action_space):\n",
        "  Qtable = np.zeros((state_space, action_space))\n",
        "  return Qtable"
      ]
    },
    {
      "cell_type": "code",
      "execution_count": null,
      "metadata": {
        "id": "Y0WlgkVO3Jf9"
      },
      "outputs": [],
      "source": [
        "Qtable_frozenlake = initialize_q_table(state_space, action_space)"
      ]
    },
    {
      "cell_type": "markdown",
      "metadata": {
        "id": "Atll4Z774gri"
      },
      "source": [
        "## Define the greedy policy 🤖\n",
        "\n",
        "Remember we have two policies since Q-Learning is an **off-policy** algorithm. This means we're using a **different policy for acting and updating the value function**.\n",
        "\n",
        "- Epsilon-greedy policy (acting policy)\n",
        "- Greedy-policy (updating policy)\n",
        "\n",
        "The greedy policy will also be the final policy we'll have when the Q-learning agent completes training. The greedy policy is used to select an action using the Q-table.\n",
        "\n",
        "<img src=\"https://huggingface.co/datasets/huggingface-deep-rl-course/course-images/resolve/main/en/unit3/off-on-4.jpg\" alt=\"Q-Learning\" width=\"100%\"/>\n"
      ]
    },
    {
      "cell_type": "code",
      "execution_count": null,
      "metadata": {
        "id": "E3SCLmLX5bWG"
      },
      "outputs": [],
      "source": [
        "# import numpy as np\n",
        "def greedy_policy(Qtable, state):\n",
        "  # Exploitation: take the action with the highest state, action value\n",
        "  action =np.argmax(Qtable[state][:])\n",
        "\n",
        "  return action"
      ]
    },
    {
      "cell_type": "markdown",
      "source": [
        "![屏幕截图 2025-06-14 102433.png](data:image/png;base64,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)"
      ],
      "metadata": {
        "id": "hOQjQSC3QIY3"
      }
    },
    {
      "cell_type": "markdown",
      "metadata": {
        "id": "B2_-8b8z5k54"
      },
      "source": [
        "#### Solution"
      ]
    },
    {
      "cell_type": "code",
      "execution_count": null,
      "metadata": {
        "id": "se2OzWGW5kYJ"
      },
      "outputs": [],
      "source": [
        "def greedy_policy(Qtable, state):\n",
        "  # Exploitation: take the action with the highest state, action value\n",
        "  action = np.argmax(Qtable[state][:])\n",
        "\n",
        "  return action"
      ]
    },
    {
      "cell_type": "markdown",
      "metadata": {
        "id": "flILKhBU3yZ7"
      },
      "source": [
        "##Define the epsilon-greedy policy 🤖\n",
        "\n",
        "Epsilon-greedy is the training policy that handles the exploration/exploitation trade-off.\n",
        "\n",
        "The idea with epsilon-greedy:\n",
        "\n",
        "- With *probability 1 - ɛ* : **we do exploitation** (i.e. our agent selects the action with the highest state-action pair value).\n",
        "\n",
        "- With *probability ɛ*: we do **exploration** (trying a random action).\n",
        "\n",
        "As the training continues, we progressively **reduce the epsilon value since we will need less and less exploration and more exploitation.**\n",
        "\n",
        "<img src=\"https://huggingface.co/datasets/huggingface-deep-rl-course/course-images/resolve/main/en/unit3/Q-learning-4.jpg\" alt=\"Q-Learning\" width=\"100%\"/>\n"
      ]
    },
    {
      "cell_type": "code",
      "execution_count": null,
      "metadata": {
        "id": "6Bj7x3in3_Pq"
      },
      "outputs": [],
      "source": [
        "#random.random(): 始终生成0到1之间的随机浮点数。\n",
        "#random.uniform(a, b): 可以生成指定范围内的随机浮点数。\n",
        "\n",
        "def epsilon_greedy_policy(Qtable, state, epsilon):\n",
        "  # Randomly generate a number between 0 and 1\n",
        "  random_num =random.random()\n",
        "  # if random_num > greater than epsilon --> exploitation\n",
        "  if random_num > epsilon:\n",
        "    # Take the action with the highest value given a state\n",
        "    # np.argmax can be useful here\n",
        "    # 也可以：action = greedy_policy(Qtable, state)\n",
        "    action = np.argmax(Qtable[state][:])\n",
        "  # else --> exploration\n",
        "  else:\n",
        "    action = env.action_space.sample()# Take a random action\n",
        "\n",
        "  return action"
      ]
    },
    {
      "cell_type": "markdown",
      "metadata": {
        "id": "8R5ej1fS4P2V"
      },
      "source": [
        "#### Solution"
      ]
    },
    {
      "cell_type": "code",
      "execution_count": null,
      "metadata": {
        "id": "cYxHuckr4LiG"
      },
      "outputs": [],
      "source": [
        "def epsilon_greedy_policy(Qtable, state, epsilon):\n",
        "  # Randomly generate a number between 0 and 1\n",
        "  random_num = random.uniform(0,1)\n",
        "  # if random_num > greater than epsilon --> exploitation\n",
        "  if random_num > epsilon:\n",
        "    # Take the action with the highest value given a state\n",
        "    # np.argmax can be useful here\n",
        "    action = greedy_policy(Qtable, state)\n",
        "  # else --> exploration\n",
        "  else:\n",
        "    action = env.action_space.sample()\n",
        "\n",
        "  return action"
      ]
    },
    {
      "cell_type": "markdown",
      "metadata": {
        "id": "hW80DealcRtu"
      },
      "source": [
        "## Define the hyperparameters ⚙️\n",
        "\n",
        "The exploration related hyperparamters are some of the most important ones.\n",
        "\n",
        "- We need to make sure that our agent **explores enough of the state space** to learn a good value approximation. To do that, we need to have progressive decay of the epsilon.\n",
        "- If you decrease epsilon too fast (too high decay_rate), **you take the risk that your agent will be stuck**, since your agent didn't explore enough of the state space and hence can't solve the problem."
      ]
    },
    {
      "cell_type": "code",
      "execution_count": null,
      "metadata": {
        "id": "Y1tWn0tycWZ1"
      },
      "outputs": [],
      "source": [
        "# Training parameters\n",
        "n_training_episodes = 10000  # Total training episodes\n",
        "learning_rate = 0.7          # Learning rate\n",
        "\n",
        "# Evaluation parameters\n",
        "n_eval_episodes = 100        # Total number of test episodes\n",
        "\n",
        "# Environment parameters\n",
        "env_id = \"FrozenLake-v1\"     # Name of the environment\n",
        "max_steps = 99               # Max steps per episode\n",
        "gamma = 0.95                 # Discounting rate\n",
        "eval_seed = []               # The evaluation seed of the environment\n",
        "\n",
        "# Exploration parameters\n",
        "max_epsilon = 1.0             # Exploration probability at start\n",
        "min_epsilon = 0.05            # Minimum exploration probability\n",
        "decay_rate = 0.0005            # Exponential decay rate for exploration prob"
      ]
    },
    {
      "cell_type": "markdown",
      "metadata": {
        "id": "cDb7Tdx8atfL"
      },
      "source": [
        "## Create the training loop method\n",
        "\n",
        "<img src=\"https://huggingface.co/datasets/huggingface-deep-rl-course/course-images/resolve/main/en/unit3/Q-learning-2.jpg\" alt=\"Q-Learning\" width=\"100%\"/>\n",
        "\n",
        "The training loop goes like this:\n",
        "\n",
        "```\n",
        "For episode in the total of training episodes:\n",
        "\n",
        "Reduce epsilon (since we need less and less exploration)\n",
        "Reset the environment\n",
        "\n",
        "  For step in max timesteps:    \n",
        "    Choose the action At using epsilon greedy policy\n",
        "    Take the action (a) and observe the outcome state(s') and reward (r)\n",
        "    Update the Q-value Q(s,a) using Bellman equation Q(s,a) + lr [R(s,a) + gamma * max Q(s',a') - Q(s,a)]\n",
        "    If done, finish the episode\n",
        "    Our next state is the new state\n",
        "```"
      ]
    },
    {
      "cell_type": "code",
      "execution_count": null,
      "metadata": {
        "id": "paOynXy3aoJW"
      },
      "outputs": [],
      "source": [
        "def train(n_training_episodes, min_epsilon, max_epsilon, decay_rate, env, max_steps, Qtable):\n",
        "  for episode in tqdm(range(n_training_episodes)):\n",
        "    # Reduce epsilon (because we need less and less exploration)\n",
        "    epsilon = min_epsilon + (max_epsilon - min_epsilon)*np.exp(-decay_rate*episode)\n",
        "    # Reset the environment\n",
        "    state, info = env.reset()\n",
        "    step = 0\n",
        "    terminated = False\n",
        "    truncated = False\n",
        "\n",
        "    # repeat\n",
        "    for step in range(max_steps):\n",
        "      # Choose the action At using epsilon greedy policy\n",
        "      action =\n",
        "\n",
        "      # Take action At and observe Rt+1 and St+1\n",
        "      # Take the action (a) and observe the outcome state(s') and reward (r)\n",
        "      new_state, reward, terminated, truncated, info =\n",
        "\n",
        "      # Update Q(s,a):= Q(s,a) + lr [R(s,a) + gamma * max Q(s',a') - Q(s,a)]\n",
        "      Qtable[state][action] =\n",
        "\n",
        "      # If terminated or truncated finish the episode\n",
        "      if terminated or truncated:\n",
        "        break\n",
        "\n",
        "      # Our next state is the new state\n",
        "      state = new_state\n",
        "  return Qtable"
      ]
    },
    {
      "cell_type": "markdown",
      "metadata": {
        "id": "Pnpk2ePoem3r"
      },
      "source": [
        "#### Solution"
      ]
    },
    {
      "cell_type": "code",
      "execution_count": null,
      "metadata": {
        "id": "IyZaYbUAeolw"
      },
      "outputs": [],
      "source": [
        "def train(n_training_episodes, min_epsilon, max_epsilon, decay_rate, env, max_steps, Qtable):\n",
        "  for episode in tqdm(range(n_training_episodes)):\n",
        "    # Reduce epsilon (because we need less and less exploration)\n",
        "    epsilon = min_epsilon + (max_epsilon - min_epsilon)*np.exp(-decay_rate*episode)\n",
        "    # Reset the environment\n",
        "    state, info = env.reset()\n",
        "    step = 0\n",
        "    terminated = False\n",
        "    truncated = False\n",
        "\n",
        "    # repeat\n",
        "    for step in range(max_steps):\n",
        "      # Choose the action At using epsilon greedy policy\n",
        "      action = epsilon_greedy_policy(Qtable, state, epsilon)\n",
        "\n",
        "      # Take action At and observe Rt+1 and St+1\n",
        "      # Take the action (a) and observe the outcome state(s') and reward (r)\n",
        "      new_state, reward, terminated, truncated, info = env.step(action)\n",
        "\n",
        "      # Update Q(s,a):= Q(s,a) + lr [R(s,a) + gamma * max Q(s',a') - Q(s,a)]\n",
        "      Qtable[state][action] = Qtable[state][action] + learning_rate * (reward + gamma * np.max(Qtable[new_state]) - Qtable[state][action])\n",
        "\n",
        "      # If terminated or truncated finish the episode\n",
        "      if terminated or truncated:\n",
        "        break\n",
        "\n",
        "      # Our next state is the new state\n",
        "      state = new_state\n",
        "  return Qtable"
      ]
    },
    {
      "cell_type": "markdown",
      "metadata": {
        "id": "WLwKQ4tUdhGI"
      },
      "source": [
        "## Train the Q-Learning agent 🏃"
      ]
    },
    {
      "cell_type": "code",
      "execution_count": null,
      "metadata": {
        "id": "DPBxfjJdTCOH"
      },
      "outputs": [],
      "source": [
        "Qtable_frozenlake = train(n_training_episodes, min_epsilon, max_epsilon, decay_rate, env, max_steps, Qtable_frozenlake)"
      ]
    },
    {
      "cell_type": "markdown",
      "metadata": {
        "id": "yVeEhUCrc30L"
      },
      "source": [
        "## Let's see what our Q-Learning table looks like now 👀"
      ]
    },
    {
      "cell_type": "code",
      "execution_count": null,
      "metadata": {
        "id": "nmfchsTITw4q"
      },
      "outputs": [],
      "source": [
        "Qtable_frozenlake"
      ]
    },
    {
      "cell_type": "markdown",
      "metadata": {
        "id": "pUrWkxsHccXD"
      },
      "source": [
        "## The evaluation method 📝\n",
        "\n",
        "- We defined the evaluation method that we're going to use to test our Q-Learning agent."
      ]
    },
    {
      "cell_type": "code",
      "execution_count": null,
      "metadata": {
        "id": "jNl0_JO2cbkm"
      },
      "outputs": [],
      "source": [
        "def evaluate_agent(env, max_steps, n_eval_episodes, Q, seed):\n",
        "  \"\"\"\n",
        "  Evaluate the agent for ``n_eval_episodes`` episodes and returns average reward and std of reward.\n",
        "  :param env: The evaluation environment\n",
        "  :param max_steps: Maximum number of steps per episode\n",
        "  :param n_eval_episodes: Number of episode to evaluate the agent\n",
        "  :param Q: The Q-table\n",
        "  :param seed: The evaluation seed array (for taxi-v3)\n",
        "  \"\"\"\n",
        "  episode_rewards = []\n",
        "  for episode in tqdm(range(n_eval_episodes)):\n",
        "    if seed:\n",
        "      state, info = env.reset(seed=seed[episode])\n",
        "    else:\n",
        "      state, info = env.reset()\n",
        "    step = 0\n",
        "    truncated = False\n",
        "    terminated = False\n",
        "    total_rewards_ep = 0\n",
        "\n",
        "    for step in range(max_steps):\n",
        "      # Take the action (index) that have the maximum expected future reward given that state\n",
        "      action = greedy_policy(Q, state)\n",
        "      new_state, reward, terminated, truncated, info = env.step(action)\n",
        "      total_rewards_ep += reward\n",
        "\n",
        "      if terminated or truncated:\n",
        "        break\n",
        "      state = new_state\n",
        "    episode_rewards.append(total_rewards_ep)\n",
        "  mean_reward = np.mean(episode_rewards)\n",
        "  std_reward = np.std(episode_rewards)\n",
        "\n",
        "  return mean_reward, std_reward"
      ]
    },
    {
      "cell_type": "markdown",
      "metadata": {
        "id": "0jJqjaoAnxUo"
      },
      "source": [
        "## Evaluate our Q-Learning agent 📈\n",
        "\n",
        "- Usually, you should have a mean reward of 1.0\n",
        "- The **environment is relatively easy** since the state space is really small (16). What you can try to do is [to replace it with the slippery version](https://gymnasium.farama.org/environments/toy_text/frozen_lake/), which introduces stochasticity, making the environment more complex."
      ]
    },
    {
      "cell_type": "code",
      "execution_count": null,
      "metadata": {
        "id": "fAgB7s0HEFMm"
      },
      "outputs": [],
      "source": [
        "# Evaluate our Agent\n",
        "mean_reward, std_reward = evaluate_agent(env, max_steps, n_eval_episodes, Qtable_frozenlake, eval_seed)\n",
        "print(f\"Mean_reward={mean_reward:.2f} +/- {std_reward:.2f}\")"
      ]
    },
    {
      "cell_type": "markdown",
      "metadata": {
        "id": "yxaP3bPdg1DV"
      },
      "source": [
        "## Publish our trained model to the Hub 🔥\n",
        "\n",
        "Now that we saw good results after the training, **we can publish our trained model to the Hub 🤗 with one line of code**.\n",
        "\n",
        "Here's an example of a Model Card:\n",
        "\n",
        "<img src=\"https://huggingface.co/datasets/huggingface-deep-rl-course/course-images/resolve/main/en/notebooks/unit2/modelcard.png\" alt=\"Model card\" width=\"100%\"/>\n"
      ]
    },
    {
      "cell_type": "markdown",
      "metadata": {
        "id": "kv0k1JQjpMq3"
      },
      "source": [
        "Under the hood, the Hub uses git-based repositories (don't worry if you don't know what git is), which means you can update the model with new versions as you experiment and improve your agent."
      ]
    },
    {
      "cell_type": "markdown",
      "metadata": {
        "id": "QZ5LrR-joIHD"
      },
      "source": [
        "#### Do not modify this code"
      ]
    },
    {
      "cell_type": "code",
      "execution_count": null,
      "metadata": {
        "id": "Jex3i9lZ8ksX"
      },
      "outputs": [],
      "source": [
        "from huggingface_hub import HfApi, snapshot_download\n",
        "from huggingface_hub.repocard import metadata_eval_result, metadata_save\n",
        "\n",
        "from pathlib import Path\n",
        "import datetime\n",
        "import json"
      ]
    },
    {
      "cell_type": "code",
      "execution_count": null,
      "metadata": {
        "id": "Qo57HBn3W74O"
      },
      "outputs": [],
      "source": [
        "def record_video(env, Qtable, out_directory, fps=1):\n",
        "  \"\"\"\n",
        "  Generate a replay video of the agent\n",
        "  :param env\n",
        "  :param Qtable: Qtable of our agent\n",
        "  :param out_directory\n",
        "  :param fps: how many frame per seconds (with taxi-v3 and frozenlake-v1 we use 1)\n",
        "  \"\"\"\n",
        "  images = []\n",
        "  terminated = False\n",
        "  truncated = False\n",
        "  state, info = env.reset(seed=random.randint(0,500))\n",
        "  img = env.render()\n",
        "  images.append(img)\n",
        "  while not terminated or truncated:\n",
        "    # Take the action (index) that have the maximum expected future reward given that state\n",
        "    action = np.argmax(Qtable[state][:])\n",
        "    state, reward, terminated, truncated, info = env.step(action) # We directly put next_state = state for recording logic\n",
        "    img = env.render()\n",
        "    images.append(img)\n",
        "  imageio.mimsave(out_directory, [np.array(img) for i, img in enumerate(images)], fps=fps)"
      ]
    },
    {
      "cell_type": "code",
      "source": [
        "def push_to_hub(\n",
        "    repo_id, model, env, video_fps=1, local_repo_path=\"hub\"\n",
        "):\n",
        "    \"\"\"\n",
        "    Evaluate, Generate a video and Upload a model to Hugging Face Hub.\n",
        "    This method does the complete pipeline:\n",
        "    - It evaluates the model\n",
        "    - It generates the model card\n",
        "    - It generates a replay video of the agent\n",
        "    - It pushes everything to the Hub\n",
        "\n",
        "    :param repo_id: repo_id: id of the model repository from the Hugging Face Hub\n",
        "    :param env\n",
        "    :param video_fps: how many frame per seconds to record our video replay\n",
        "    (with taxi-v3 and frozenlake-v1 we use 1)\n",
        "    :param local_repo_path: where the local repository is\n",
        "    \"\"\"\n",
        "    _, repo_name = repo_id.split(\"/\")\n",
        "\n",
        "    eval_env = env\n",
        "    api = HfApi()\n",
        "\n",
        "    # Step 1: Create the repo\n",
        "    repo_url = api.create_repo(\n",
        "        repo_id=repo_id,\n",
        "        exist_ok=True,\n",
        "    )\n",
        "\n",
        "    # Step 2: Download files\n",
        "    repo_local_path = Path(snapshot_download(repo_id=repo_id))\n",
        "\n",
        "    # Step 3: Save the model\n",
        "    if env.spec.kwargs.get(\"map_name\"):\n",
        "        model[\"map_name\"] = env.spec.kwargs.get(\"map_name\")\n",
        "        if env.spec.kwargs.get(\"is_slippery\", \"\") == False:\n",
        "            model[\"slippery\"] = False\n",
        "\n",
        "    # Pickle the model\n",
        "    with open((repo_local_path) / \"q-learning.pkl\", \"wb\") as f:\n",
        "        pickle.dump(model, f)\n",
        "\n",
        "    # Step 4: Evaluate the model and build JSON with evaluation metrics\n",
        "    mean_reward, std_reward = evaluate_agent(\n",
        "        eval_env, model[\"max_steps\"], model[\"n_eval_episodes\"], model[\"qtable\"], model[\"eval_seed\"]\n",
        "    )\n",
        "\n",
        "    evaluate_data = {\n",
        "        \"env_id\": model[\"env_id\"],\n",
        "        \"mean_reward\": mean_reward,\n",
        "        \"n_eval_episodes\": model[\"n_eval_episodes\"],\n",
        "        \"eval_datetime\": datetime.datetime.now().isoformat()\n",
        "    }\n",
        "\n",
        "    # Write a JSON file called \"results.json\" that will contain the\n",
        "    # evaluation results\n",
        "    with open(repo_local_path / \"results.json\", \"w\") as outfile:\n",
        "        json.dump(evaluate_data, outfile)\n",
        "\n",
        "    # Step 5: Create the model card\n",
        "    env_name = model[\"env_id\"]\n",
        "    if env.spec.kwargs.get(\"map_name\"):\n",
        "        env_name += \"-\" + env.spec.kwargs.get(\"map_name\")\n",
        "\n",
        "    if env.spec.kwargs.get(\"is_slippery\", \"\") == False:\n",
        "        env_name += \"-\" + \"no_slippery\"\n",
        "\n",
        "    metadata = {}\n",
        "    metadata[\"tags\"] = [env_name, \"q-learning\", \"reinforcement-learning\", \"custom-implementation\"]\n",
        "\n",
        "    # Add metrics\n",
        "    eval = metadata_eval_result(\n",
        "        model_pretty_name=repo_name,\n",
        "        task_pretty_name=\"reinforcement-learning\",\n",
        "        task_id=\"reinforcement-learning\",\n",
        "        metrics_pretty_name=\"mean_reward\",\n",
        "        metrics_id=\"mean_reward\",\n",
        "        metrics_value=f\"{mean_reward:.2f} +/- {std_reward:.2f}\",\n",
        "        dataset_pretty_name=env_name,\n",
        "        dataset_id=env_name,\n",
        "    )\n",
        "\n",
        "    # Merges both dictionaries\n",
        "    metadata = {**metadata, **eval}\n",
        "\n",
        "    model_card = f\"\"\"\n",
        "  # **Q-Learning** Agent playing1 **{env_id}**\n",
        "  This is a trained model of a **Q-Learning** agent playing **{env_id}** .\n",
        "\n",
        "  ## Usage\n",
        "\n",
        "  ```python\n",
        "\n",
        "  model = load_from_hub(repo_id=\"{repo_id}\", filename=\"q-learning.pkl\")\n",
        "\n",
        "  # Don't forget to check if you need to add additional attributes (is_slippery=False etc)\n",
        "  env = gym.make(model[\"env_id\"])\n",
        "  ```\n",
        "  \"\"\"\n",
        "\n",
        "    evaluate_agent(env, model[\"max_steps\"], model[\"n_eval_episodes\"], model[\"qtable\"], model[\"eval_seed\"])\n",
        "\n",
        "    readme_path = repo_local_path / \"README.md\"\n",
        "    readme = \"\"\n",
        "    print(readme_path.exists())\n",
        "    if readme_path.exists():\n",
        "        with readme_path.open(\"r\", encoding=\"utf8\") as f:\n",
        "            readme = f.read()\n",
        "    else:\n",
        "        readme = model_card\n",
        "\n",
        "    with readme_path.open(\"w\", encoding=\"utf-8\") as f:\n",
        "        f.write(readme)\n",
        "\n",
        "    # Save our metrics to Readme metadata\n",
        "    metadata_save(readme_path, metadata)\n",
        "\n",
        "    # Step 6: Record a video\n",
        "    video_path = repo_local_path / \"replay.mp4\"\n",
        "    record_video(env, model[\"qtable\"], video_path, video_fps)\n",
        "\n",
        "    # Step 7. Push everything to the Hub\n",
        "    api.upload_folder(\n",
        "        repo_id=repo_id,\n",
        "        folder_path=repo_local_path,\n",
        "        path_in_repo=\".\",\n",
        "    )\n",
        "\n",
        "    print(\"Your model is pushed to the Hub. You can view your model here: \", repo_url)"
      ],
      "metadata": {
        "id": "U4mdUTKkGnUd"
      },
      "execution_count": null,
      "outputs": []
    },
    {
      "cell_type": "markdown",
      "metadata": {
        "id": "81J6cet_ogSS"
      },
      "source": [
        "### .\n",
        "\n",
        "By using `push_to_hub` **you evaluate, record a replay, generate a model card of your agent and push it to the Hub**.\n",
        "\n",
        "This way:\n",
        "- You can **showcase our work** 🔥\n",
        "- You can **visualize your agent playing** 👀\n",
        "- You can **share an agent with the community that others can use** 💾\n",
        "- You can **access a leaderboard 🏆 to see how well your agent is performing compared to your classmates** 👉 https://huggingface.co/spaces/huggingface-projects/Deep-Reinforcement-Learning-Leaderboard\n"
      ]
    },
    {
      "cell_type": "markdown",
      "metadata": {
        "id": "cWnFC0iZooTw"
      },
      "source": [
        "To be able to share your model with the community there are three more steps to follow:\n",
        "\n",
        "1️⃣ (If it's not already done) create an account to HF ➡ https://huggingface.co/join\n",
        "\n",
        "2️⃣ Sign in and then, you need to store your authentication token from the Hugging Face website.\n",
        "- Create a new token (https://huggingface.co/settings/tokens) **with write role**\n",
        "\n",
        "\n",
        "<img src=\"https://huggingface.co/datasets/huggingface-deep-rl-course/course-images/resolve/main/en/notebooks/create-token.jpg\" alt=\"Create HF Token\">\n"
      ]
    },
    {
      "cell_type": "code",
      "execution_count": null,
      "metadata": {
        "id": "QB5nIcxR8paT"
      },
      "outputs": [],
      "source": [
        "from huggingface_hub import notebook_login\n",
        "notebook_login()"
      ]
    },
    {
      "cell_type": "markdown",
      "metadata": {
        "id": "GyWc1x3-o3xG"
      },
      "source": [
        "If you don't want to use a Google Colab or a Jupyter Notebook, you need to use this command instead: `huggingface-cli login` (or `login`)"
      ]
    },
    {
      "cell_type": "markdown",
      "metadata": {
        "id": "Gc5AfUeFo3xH"
      },
      "source": [
        "3️⃣ We're now ready to push our trained agent to the 🤗 Hub 🔥 using `push_to_hub()` function\n",
        "\n",
        "- Let's create **the model dictionary that contains the hyperparameters and the Q_table**."
      ]
    },
    {
      "cell_type": "code",
      "execution_count": null,
      "metadata": {
        "id": "FiMqxqVHg0I4"
      },
      "outputs": [],
      "source": [
        "model = {\n",
        "    \"env_id\": env_id,\n",
        "    \"max_steps\": max_steps,\n",
        "    \"n_training_episodes\": n_training_episodes,\n",
        "    \"n_eval_episodes\": n_eval_episodes,\n",
        "    \"eval_seed\": eval_seed,\n",
        "\n",
        "    \"learning_rate\": learning_rate,\n",
        "    \"gamma\": gamma,\n",
        "\n",
        "    \"max_epsilon\": max_epsilon,\n",
        "    \"min_epsilon\": min_epsilon,\n",
        "    \"decay_rate\": decay_rate,\n",
        "\n",
        "    \"qtable\": Qtable_frozenlake\n",
        "}"
      ]
    },
    {
      "cell_type": "markdown",
      "metadata": {
        "id": "9kld-AEso3xH"
      },
      "source": [
        "Let's fill the `push_to_hub` function:\n",
        "\n",
        "- `repo_id`: the name of the Hugging Face Hub Repository that will be created/updated `\n",
        "(repo_id = {username}/{repo_name})`\n",
        "💡 A good `repo_id` is `{username}/q-{env_id}`\n",
        "- `model`: our model dictionary containing the hyperparameters and the Qtable.\n",
        "- `env`: the environment.\n",
        "- `commit_message`: message of the commit"
      ]
    },
    {
      "cell_type": "code",
      "execution_count": null,
      "metadata": {
        "id": "5sBo2umnXpPd"
      },
      "outputs": [],
      "source": [
        "model"
      ]
    },
    {
      "cell_type": "code",
      "execution_count": null,
      "metadata": {
        "id": "RpOTtSt83kPZ"
      },
      "outputs": [],
      "source": [
        "username = \"\" # FILL THIS\n",
        "repo_name = \"q-FrozenLake-v1-4x4-noSlippery\"\n",
        "push_to_hub(\n",
        "    repo_id=f\"{username}/{repo_name}\",\n",
        "    model=model,\n",
        "    env=env)"
      ]
    },
    {
      "cell_type": "markdown",
      "metadata": {
        "id": "E2875IGsprzq"
      },
      "source": [
        "Congrats 🥳 you've just implemented from scratch, trained, and uploaded your first Reinforcement Learning agent.\n",
        "FrozenLake-v1 no_slippery is very simple environment, let's try a harder one 🔥."
      ]
    },
    {
      "cell_type": "markdown",
      "metadata": {
        "id": "18lN8Bz7yvLt"
      },
      "source": [
        "# Part 2: Taxi-v3 🚖\n",
        "\n",
        "## Create and understand [Taxi-v3 🚕](https://gymnasium.farama.org/environments/toy_text/taxi/)\n",
        "---\n",
        "\n",
        "💡 A good habit when you start to use an environment is to check its documentation\n",
        "\n",
        "👉 https://gymnasium.farama.org/environments/toy_text/taxi/\n",
        "\n",
        "---\n",
        "\n",
        "In `Taxi-v3` 🚕, there are four designated locations in the grid world indicated by R(ed), G(reen), Y(ellow), and B(lue).\n",
        "\n",
        "When the episode starts, **the taxi starts off at a random square** and the passenger is at a random location. The taxi drives to the passenger’s location, **picks up the passenger**, drives to the passenger’s destination (another one of the four specified locations), and then **drops off the passenger**. Once the passenger is dropped off, the episode ends.\n",
        "\n",
        "\n",
        "<img src=\"https://huggingface.co/datasets/huggingface-deep-rl-course/course-images/resolve/main/en/notebooks/unit2/taxi.png\" alt=\"Taxi\">\n"
      ]
    },
    {
      "cell_type": "code",
      "execution_count": null,
      "metadata": {
        "id": "gL0wpeO8gpej"
      },
      "outputs": [],
      "source": [
        "env = gym.make(\"Taxi-v3\", render_mode=\"rgb_array\")"
      ]
    },
    {
      "cell_type": "markdown",
      "metadata": {
        "id": "gBOaXgtsrmtT"
      },
      "source": [
        "There are **500 discrete states since there are 25 taxi positions, 5 possible locations of the passenger** (including the case when the passenger is in the taxi), and **4 destination locations.**\n"
      ]
    },
    {
      "cell_type": "code",
      "execution_count": null,
      "metadata": {
        "id": "_TPNaGSZrgqA"
      },
      "outputs": [],
      "source": [
        "state_space = env.observation_space.n\n",
        "print(\"There are \", state_space, \" possible states\")"
      ]
    },
    {
      "cell_type": "code",
      "execution_count": null,
      "metadata": {
        "id": "CdeeZuokrhit"
      },
      "outputs": [],
      "source": [
        "action_space = env.action_space.n\n",
        "print(\"There are \", action_space, \" possible actions\")"
      ]
    },
    {
      "cell_type": "markdown",
      "metadata": {
        "id": "R1r50Advrh5Q"
      },
      "source": [
        "The action space (the set of possible actions the agent can take) is discrete with **6 actions available 🎮**:\n",
        "\n",
        "- 0: move south\n",
        "- 1: move north\n",
        "- 2: move east\n",
        "- 3: move west\n",
        "- 4: pickup passenger\n",
        "- 5: drop off passenger\n",
        "\n",
        "Reward function 💰:\n",
        "\n",
        "- -1 per step unless other reward is triggered.\n",
        "- +20 delivering passenger.\n",
        "- -10 executing “pickup” and “drop-off” actions illegally."
      ]
    },
    {
      "cell_type": "code",
      "execution_count": null,
      "metadata": {
        "id": "US3yDXnEtY9I"
      },
      "outputs": [],
      "source": [
        "# Create our Q table with state_size rows and action_size columns (500x6)\n",
        "Qtable_taxi = initialize_q_table(state_space, action_space)\n",
        "print(Qtable_taxi)\n",
        "print(\"Q-table shape: \", Qtable_taxi .shape)"
      ]
    },
    {
      "cell_type": "markdown",
      "metadata": {
        "id": "gUMKPH0_LJyH"
      },
      "source": [
        "## Define the hyperparameters ⚙️\n",
        "\n",
        "⚠ DO NOT MODIFY EVAL_SEED: the eval_seed array **allows us to evaluate your agent with the same taxi starting positions for every classmate**"
      ]
    },
    {
      "cell_type": "code",
      "execution_count": null,
      "metadata": {
        "id": "AB6n__hhg7YS"
      },
      "outputs": [],
      "source": [
        "# Training parameters\n",
        "n_training_episodes = 25000   # Total training episodes\n",
        "learning_rate = 0.7           # Learning rate\n",
        "\n",
        "# Evaluation parameters\n",
        "n_eval_episodes = 100        # Total number of test episodes\n",
        "\n",
        "# DO NOT MODIFY EVAL_SEED\n",
        "eval_seed = [16,54,165,177,191,191,120,80,149,178,48,38,6,125,174,73,50,172,100,148,146,6,25,40,68,148,49,167,9,97,164,176,61,7,54,55,\n",
        " 161,131,184,51,170,12,120,113,95,126,51,98,36,135,54,82,45,95,89,59,95,124,9,113,58,85,51,134,121,169,105,21,30,11,50,65,12,43,82,145,152,97,106,55,31,85,38,\n",
        " 112,102,168,123,97,21,83,158,26,80,63,5,81,32,11,28,148] # Evaluation seed, this ensures that all classmates agents are trained on the same taxi starting position\n",
        "                                                          # Each seed has a specific starting state\n",
        "\n",
        "# Environment parameters\n",
        "env_id = \"Taxi-v3\"           # Name of the environment\n",
        "max_steps = 99               # Max steps per episode\n",
        "gamma = 0.95                 # Discounting rate\n",
        "\n",
        "# Exploration parameters\n",
        "max_epsilon = 1.0             # Exploration probability at start\n",
        "min_epsilon = 0.05           # Minimum exploration probability\n",
        "decay_rate = 0.005            # Exponential decay rate for exploration prob\n"
      ]
    },
    {
      "cell_type": "markdown",
      "metadata": {
        "id": "1TMORo1VLTsX"
      },
      "source": [
        "## Train our Q-Learning agent 🏃"
      ]
    },
    {
      "cell_type": "code",
      "execution_count": null,
      "metadata": {
        "id": "WwP3Y2z2eS-K"
      },
      "outputs": [],
      "source": [
        "Qtable_taxi = train(n_training_episodes, min_epsilon, max_epsilon, decay_rate, env, max_steps, Qtable_taxi)\n",
        "Qtable_taxi"
      ]
    },
    {
      "cell_type": "markdown",
      "metadata": {
        "id": "wPdu0SueLVl2"
      },
      "source": [
        "## Create a model dictionary 💾 and publish our trained model to the Hub 🔥\n",
        "\n",
        "- We create a model dictionary that will contain all the training hyperparameters for reproducibility and the Q-Table.\n"
      ]
    },
    {
      "cell_type": "code",
      "execution_count": null,
      "metadata": {
        "id": "0a1FpE_3hNYr"
      },
      "outputs": [],
      "source": [
        "model = {\n",
        "    \"env_id\": env_id,\n",
        "    \"max_steps\": max_steps,\n",
        "    \"n_training_episodes\": n_training_episodes,\n",
        "    \"n_eval_episodes\": n_eval_episodes,\n",
        "    \"eval_seed\": eval_seed,\n",
        "\n",
        "    \"learning_rate\": learning_rate,\n",
        "    \"gamma\": gamma,\n",
        "\n",
        "    \"max_epsilon\": max_epsilon,\n",
        "    \"min_epsilon\": min_epsilon,\n",
        "    \"decay_rate\": decay_rate,\n",
        "\n",
        "    \"qtable\": Qtable_taxi\n",
        "}"
      ]
    },
    {
      "cell_type": "code",
      "execution_count": null,
      "metadata": {
        "id": "dhQtiQozhOn1"
      },
      "outputs": [],
      "source": [
        "username = \"\" # FILL THIS\n",
        "repo_name = \"\" # FILL THIS\n",
        "push_to_hub(\n",
        "    repo_id=f\"{username}/{repo_name}\",\n",
        "    model=model,\n",
        "    env=env)"
      ]
    },
    {
      "cell_type": "markdown",
      "metadata": {
        "id": "ZgSdjgbIpRti"
      },
      "source": [
        "Now that it's on the Hub, you can compare the results of your Taxi-v3 with your classmates using the leaderboard 🏆 👉 https://huggingface.co/spaces/huggingface-projects/Deep-Reinforcement-Learning-Leaderboard\n",
        "\n",
        "\n",
        "<img src=\"https://huggingface.co/datasets/huggingface-deep-rl-course/course-images/resolve/main/en/notebooks/unit2/taxi-leaderboard.png\" alt=\"Taxi Leaderboard\">"
      ]
    },
    {
      "cell_type": "markdown",
      "metadata": {
        "id": "bzgIO70c0bu2"
      },
      "source": [
        "# Part 3: Load from Hub 🔽\n",
        "\n",
        "What's amazing with Hugging Face Hub 🤗 is that you can easily load powerful models from the community.\n",
        "\n",
        "Loading a saved model from the Hub is really easy:\n",
        "\n",
        "1. You go https://huggingface.co/models?other=q-learning to see the list of all the q-learning saved models.\n",
        "2. You select one and copy its repo_id\n",
        "\n",
        "<img src=\"https://huggingface.co/datasets/huggingface-deep-rl-course/course-images/resolve/main/en/notebooks/unit2/copy-id.png\" alt=\"Copy id\">"
      ]
    },
    {
      "cell_type": "markdown",
      "metadata": {
        "id": "gTth6thRoC6X"
      },
      "source": [
        "3. Then we just need to use `load_from_hub` with:\n",
        "- The repo_id\n",
        "- The filename: the saved model inside the repo."
      ]
    },
    {
      "cell_type": "markdown",
      "metadata": {
        "id": "EtrfoTaBoNrd"
      },
      "source": [
        "#### Do not modify this code"
      ]
    },
    {
      "cell_type": "code",
      "execution_count": null,
      "metadata": {
        "id": "Eo8qEzNtCaVI"
      },
      "outputs": [],
      "source": [
        "from urllib.error import HTTPError\n",
        "\n",
        "from huggingface_hub import hf_hub_download\n",
        "\n",
        "\n",
        "def load_from_hub(repo_id: str, filename: str) -> str:\n",
        "    \"\"\"\n",
        "    Download a model from Hugging Face Hub.\n",
        "    :param repo_id: id of the model repository from the Hugging Face Hub\n",
        "    :param filename: name of the model zip file from the repository\n",
        "    \"\"\"\n",
        "    # Get the model from the Hub, download and cache the model on your local disk\n",
        "    pickle_model = hf_hub_download(\n",
        "        repo_id=repo_id,\n",
        "        filename=filename\n",
        "    )\n",
        "\n",
        "    with open(pickle_model, 'rb') as f:\n",
        "      downloaded_model_file = pickle.load(f)\n",
        "\n",
        "    return downloaded_model_file"
      ]
    },
    {
      "cell_type": "markdown",
      "metadata": {
        "id": "b_sM2gNioPZH"
      },
      "source": [
        "### ."
      ]
    },
    {
      "cell_type": "code",
      "execution_count": null,
      "metadata": {
        "id": "JUm9lz2gCQcU"
      },
      "outputs": [],
      "source": [
        "model = load_from_hub(repo_id=\"ThomasSimonini/q-Taxi-v3\", filename=\"q-learning.pkl\") # Try to use another model\n",
        "\n",
        "print(model)\n",
        "env = gym.make(model[\"env_id\"])\n",
        "\n",
        "evaluate_agent(env, model[\"max_steps\"], model[\"n_eval_episodes\"], model[\"qtable\"], model[\"eval_seed\"])"
      ]
    },
    {
      "cell_type": "code",
      "execution_count": null,
      "metadata": {
        "id": "O7pL8rg1MulN"
      },
      "outputs": [],
      "source": [
        "model = load_from_hub(repo_id=\"ThomasSimonini/q-FrozenLake-v1-no-slippery\", filename=\"q-learning.pkl\") # Try to use another model\n",
        "\n",
        "env = gym.make(model[\"env_id\"], is_slippery=False)\n",
        "\n",
        "evaluate_agent(env, model[\"max_steps\"], model[\"n_eval_episodes\"], model[\"qtable\"], model[\"eval_seed\"])"
      ]
    },
    {
      "cell_type": "markdown",
      "metadata": {
        "id": "BQAwLnYFPk-s"
      },
      "source": [
        "## Some additional challenges 🏆\n",
        "\n",
        "The best way to learn **is to try things on your own**! As you saw, the current agent is not doing great. As a first suggestion, you can train for more steps. With 1,000,000 steps, we saw some great results!\n",
        "\n",
        "In the [Leaderboard](https://huggingface.co/spaces/huggingface-projects/Deep-Reinforcement-Learning-Leaderboard) you will find your agents. Can you get to the top?\n",
        "\n",
        "Here are some ideas to climb up the leaderboard:\n",
        "\n",
        "* Train more steps\n",
        "* Try different hyperparameters by looking at what your classmates have done.\n",
        "* **Push your new trained model** on the Hub 🔥\n",
        "\n",
        "Are walking on ice and driving taxis too boring to you? Try to **change the environment**, why not use FrozenLake-v1 slippery version? Check how they work [using the gymnasium documentation](https://gymnasium.farama.org/) and have fun 🎉."
      ]
    },
    {
      "cell_type": "markdown",
      "metadata": {
        "id": "p-fW-EU5WejJ"
      },
      "source": [
        "_____________________________________________________________________\n",
        "Congrats 🥳, you've just implemented, trained, and uploaded your first Reinforcement Learning agent.\n",
        "\n",
        "Understanding Q-Learning is an **important step to understanding value-based methods.**\n",
        "\n",
        "In the next Unit with Deep Q-Learning, we'll see that while creating and updating a Q-table was a good strategy — **however, it is not scalable.**\n",
        "\n",
        "For instance, imagine you create an agent that learns to play Doom.\n",
        "\n",
        "<img src=\"https://vizdoom.cs.put.edu.pl/user/pages/01.tutorial/basic.png\" alt=\"Doom\"/>\n",
        "\n",
        "Doom is a large environment with a huge state space (millions of different states). Creating and updating a Q-table for that environment would not be efficient.\n",
        "\n",
        "That's why we'll study Deep Q-Learning in the next unit, an algorithm **where we use a neural network that approximates, given a state, the different Q-values for each action.**\n",
        "\n",
        "<img src=\"https://huggingface.co/datasets/huggingface-deep-rl-course/course-images/resolve/main/en/unit4/atari-envs.gif\" alt=\"Environments\"/>\n"
      ]
    },
    {
      "cell_type": "markdown",
      "metadata": {
        "id": "BjLhT70TEZIn"
      },
      "source": [
        "See you in Unit 3! 🔥\n",
        "\n",
        "## Keep learning, stay awesome 🤗"
      ]
    }
  ],
  "metadata": {
    "colab": {
      "private_outputs": true,
      "provenance": [],
      "collapsed_sections": [
        "67OdoKL63eDD",
        "B2_-8b8z5k54",
        "8R5ej1fS4P2V",
        "Pnpk2ePoem3r"
      ],
      "gpuType": "T4",
      "include_colab_link": true
    },
    "kernelspec": {
      "display_name": "Python 3",
      "name": "python3"
    },
    "language_info": {
      "name": "python"
    },
    "accelerator": "GPU"
  },
  "nbformat": 4,
  "nbformat_minor": 0
}