{
  "cells": [
    {
      "cell_type": "markdown",
      "metadata": {
        "id": "view-in-github",
        "colab_type": "text"
      },
      "source": [
        "<a href=\"https://colab.research.google.com/github/1613954186/virtuous_circle/blob/main/notebooks/unit2/unit2.ipynb\" target=\"_parent\"><img src=\"https://colab.research.google.com/assets/colab-badge.svg\" alt=\"Open In Colab\"/></a>"
      ]
    },
    {
      "cell_type": "markdown",
      "metadata": {
        "id": "njb_ProuHiOe"
      },
      "source": [
        "# Unit 2: Q-Learning with FrozenLake-v1 ⛄ and Taxi-v3 🚕\n",
        "\n",
        "<img src=\"https://huggingface.co/datasets/huggingface-deep-rl-course/course-images/resolve/main/en/unit3/thumbnail.jpg\" alt=\"Unit 2 Thumbnail\">\n",
        "\n",
        "In this notebook, **you'll code your first Reinforcement Learning agent from scratch** to play FrozenLake ❄️ using Q-Learning, share it with the community, and experiment with different configurations.\n",
        "\n",
        "⬇️ Here is an example of what **you will achieve in just a couple of minutes.** ⬇️\n"
      ]
    },
    {
      "cell_type": "markdown",
      "metadata": {
        "id": "vRU_vXBrl1Jx"
      },
      "source": [
        "<img src=\"https://huggingface.co/datasets/huggingface-deep-rl-course/course-images/resolve/main/en/unit3/envs.gif\" alt=\"Environments\"/>"
      ]
    },
    {
      "cell_type": "markdown",
      "source": [
        "###🎮 Environments:\n",
        "\n",
        "- [FrozenLake-v1](https://gymnasium.farama.org/environments/toy_text/frozen_lake/)\n",
        "- [Taxi-v3](https://gymnasium.farama.org/environments/toy_text/taxi/)\n",
        "\n",
        "###📚 RL-Library:\n",
        "\n",
        "- Python and NumPy\n",
        "- [Gymnasium](https://gymnasium.farama.org/)\n",
        "\n",
        "We're constantly trying to improve our tutorials, so **if you find some issues in this notebook**, please [open an issue on the GitHub Repo](https://github.com/huggingface/deep-rl-class/issues)."
      ],
      "metadata": {
        "id": "DPTBOv9HYLZ2"
      }
    },
    {
      "cell_type": "markdown",
      "metadata": {
        "id": "4i6tjI2tHQ8j"
      },
      "source": [
        "## Objectives of this notebook 🏆\n",
        "\n",
        "At the end of the notebook, you will:\n",
        "\n",
        "- Be able to use **Gymnasium**, the environment library.\n",
        "- Be able to code a Q-Learning agent from scratch.\n",
        "- Be able to **push your trained agent and the code to the Hub** with a nice video replay and an evaluation score 🔥.\n",
        "\n",
        "\n"
      ]
    },
    {
      "cell_type": "markdown",
      "source": [
        "## This notebook is from the Deep Reinforcement Learning Course\n",
        "\n",
        "<img src=\"https://huggingface.co/datasets/huggingface-deep-rl-course/course-images/resolve/main/en/notebooks/deep-rl-course-illustration.jpg\" alt=\"Deep RL Course illustration\"/>"
      ],
      "metadata": {
        "id": "viNzVbVaYvY3"
      }
    },
    {
      "cell_type": "markdown",
      "metadata": {
        "id": "6p5HnEefISCB"
      },
      "source": [
        "In this free course, you will:\n",
        "\n",
        "- 📖 Study Deep Reinforcement Learning in **theory and practice**.\n",
        "- 🧑‍💻 Learn to **use famous Deep RL libraries** such as Stable Baselines3, RL Baselines3 Zoo, CleanRL and Sample Factory 2.0.\n",
        "- 🤖 Train **agents in unique environments**\n",
        "\n",
        "And more check 📚 the syllabus 👉 https://simoninithomas.github.io/deep-rl-course\n",
        "\n",
        "Don’t forget to **<a href=\"http://eepurl.com/ic5ZUD\">sign up to the course</a>** (we are collecting your email to be able to **send you the links when each Unit is published and give you information about the challenges and updates).**\n",
        "\n",
        "\n",
        "The best way to keep in touch is to join our discord server to exchange with the community and with us 👉🏻 https://discord.gg/ydHrjt3WP5"
      ]
    },
    {
      "cell_type": "markdown",
      "metadata": {
        "id": "Y-mo_6rXIjRi"
      },
      "source": [
        "## Prerequisites 🏗️\n",
        "\n",
        "Before diving into the notebook, you need to:\n",
        "\n",
        "🔲 📚 **Study [Q-Learning by reading Unit 2](https://huggingface.co/deep-rl-course/unit2/introduction)**  🤗  "
      ]
    },
    {
      "cell_type": "markdown",
      "metadata": {
        "id": "f2ONOODsyrMU"
      },
      "source": [
        "## A small recap of Q-Learning"
      ]
    },
    {
      "cell_type": "markdown",
      "metadata": {
        "id": "V68VveLacfxJ"
      },
      "source": [
        "*Q-Learning* **is the RL algorithm that**:\n",
        "\n",
        "- Trains *Q-Function*, an **action-value function** that encoded, in internal memory, by a *Q-table* **that contains all the state-action pair values.**\n",
        "\n",
        "- Given a state and action, our Q-Function **will search the Q-table for the corresponding value.**\n",
        "    \n",
        "<img src=\"https://huggingface.co/datasets/huggingface-deep-rl-course/course-images/resolve/main/en/unit3/Q-function-2.jpg\" alt=\"Q function\"  width=\"100%\"/>\n",
        "\n",
        "- When the training is done,**we have an optimal Q-Function, so an optimal Q-Table.**\n",
        "    \n",
        "- And if we **have an optimal Q-function**, we\n",
        "have an optimal policy, since we **know for, each state, the best action to take.**\n",
        "\n",
        "<img src=\"https://huggingface.co/datasets/huggingface-deep-rl-course/course-images/resolve/main/en/unit3/link-value-policy.jpg\" alt=\"Link value policy\"  width=\"100%\"/>\n",
        "\n",
        "\n",
        "But, in the beginning, our **Q-Table is useless since it gives arbitrary value for each state-action pair (most of the time we initialize the Q-Table to 0 values)**. But, as we’ll explore the environment and update our Q-Table it will give us better and better approximations\n",
        "\n",
        "<img src=\"https://huggingface.co/datasets/huggingface-deep-rl-course/course-images/resolve/main/en/notebooks/unit2/q-learning.jpeg\" alt=\"q-learning.jpeg\" width=\"100%\"/>\n",
        "\n",
        "This is the Q-Learning pseudocode:\n",
        "\n",
        "<img src=\"https://huggingface.co/datasets/huggingface-deep-rl-course/course-images/resolve/main/en/unit3/Q-learning-2.jpg\" alt=\"Q-Learning\" width=\"100%\"/>\n"
      ]
    },
    {
      "cell_type": "markdown",
      "source": [
        "# Let's code our first Reinforcement Learning algorithm 🚀"
      ],
      "metadata": {
        "id": "HEtx8Y8MqKfH"
      }
    },
    {
      "cell_type": "markdown",
      "source": [
        "To validate this hands-on for the [certification process](https://huggingface.co/deep-rl-course/en/unit0/introduction#certification-process), you need to push your trained Taxi model to the Hub and **get a result of >= 4.5**.\n",
        "\n",
        "To find your result, go to the [leaderboard](https://huggingface.co/spaces/huggingface-projects/Deep-Reinforcement-Learning-Leaderboard) and find your model, **the result = mean_reward - std of reward**\n",
        "\n",
        "For more information about the certification process, check this section 👉 https://huggingface.co/deep-rl-course/en/unit0/introduction#certification-process"
      ],
      "metadata": {
        "id": "Kdxb1IhzTn0v"
      }
    },
    {
      "cell_type": "markdown",
      "source": [
        "## Install dependencies and create a virtual display 🔽\n",
        "\n",
        "\n",
        "\n",
        "We’ll install multiple ones:\n",
        "\n",
        "- `gymnasium`: Contains the FrozenLake-v1 ⛄ and Taxi-v3 🚕 environments.\n",
        "- `pygame`: Used for the FrozenLake-v1 and Taxi-v3 UI.\n",
        "- `numpy`: Used for handling our Q-table.\n",
        "\n",
        "The Hugging Face Hub 🤗 works as a central place where anyone can share and explore models and datasets. It has versioning, metrics, visualizations and other features that will allow you to easily collaborate with others.\n",
        "\n",
        "You can see here all the Deep RL models available (if they use Q Learning) here 👉 https://huggingface.co/models?other=q-learning"
      ],
      "metadata": {
        "id": "4gpxC1_kqUYe"
      }
    },
    {
      "cell_type": "markdown",
      "source": [
        "安装下述这些东西后，后面才能import"
      ],
      "metadata": {
        "id": "UV5N8jCANbaN"
      }
    },
    {
      "cell_type": "code",
      "execution_count": null,
      "metadata": {
        "id": "9XaULfDZDvrC",
        "collapsed": true
      },
      "outputs": [],
      "source": [
        "!pip install -r https://raw.githubusercontent.com/DennisHeesmans/deep-rl-class/unit2/notebooks/unit2/requirements-unit2.txt"
      ]
    },
    {
      "cell_type": "markdown",
      "source": [
        "In the notebook, we'll need to generate a replay video. To do so, with Colab, **we need to have a virtual screen to render the environment** (and thus record the frames).\n",
        "\n",
        "Hence the following cell will install the libraries and create and run a virtual screen 🖥"
      ],
      "metadata": {
        "id": "DNRosELQpQhC"
      }
    },
    {
      "cell_type": "code",
      "source": [
        "!sudo apt-get update\n",
        "!sudo apt-get install -y python3-opengl\n",
        "!apt install ffmpeg xvfb\n",
        "!pip3 install pyvirtualdisplay"
      ],
      "metadata": {
        "id": "n71uTX7qqzz2",
        "collapsed": true
      },
      "execution_count": null,
      "outputs": []
    },
    {
      "cell_type": "markdown",
      "source": [
        "To make sure the new installed libraries are used, **sometimes it's required to restart the notebook runtime**. The next cell will force the **runtime to crash, so you'll need to connect again and run the code starting from here**. Thanks to this trick, **we will be able to run our virtual screen.**"
      ],
      "metadata": {
        "id": "K6XC13pTfFiD"
      }
    },
    {
      "cell_type": "code",
      "source": [
        "import os\n",
        "os.kill(os.getpid(), 9)"
      ],
      "metadata": {
        "id": "3kuZbWAkfHdg"
      },
      "execution_count": null,
      "outputs": []
    },
    {
      "cell_type": "code",
      "source": [
        "# Virtual display\n",
        "from pyvirtualdisplay import Display\n",
        "\n",
        "virtual_display = Display(visible=0, size=(1400, 900))\n",
        "virtual_display.start()"
      ],
      "metadata": {
        "id": "DaY1N4dBrabi"
      },
      "execution_count": null,
      "outputs": []
    },
    {
      "cell_type": "markdown",
      "metadata": {
        "id": "W-7f-Swax_9x"
      },
      "source": [
        "## Import the packages 📦\n",
        "\n",
        "In addition to the installed libraries, we also use:\n",
        "\n",
        "- `random`: To generate random numbers (that will be useful for epsilon-greedy policy).\n",
        "- `imageio`: To generate a replay video."
      ]
    },
    {
      "cell_type": "code",
      "execution_count": null,
      "metadata": {
        "id": "VcNvOAQlysBJ"
      },
      "outputs": [],
      "source": [
        "import numpy as np\n",
        "import gymnasium as gym\n",
        "import random\n",
        "import imageio\n",
        "import os\n",
        "import tqdm\n",
        "\n",
        "import pickle\n",
        "from tqdm.notebook import tqdm"
      ]
    },
    {
      "cell_type": "markdown",
      "metadata": {
        "id": "xp4-bXKIy1mQ"
      },
      "source": [
        "We're now ready to code our Q-Learning algorithm 🔥"
      ]
    },
    {
      "cell_type": "markdown",
      "metadata": {
        "id": "xya49aNJWVvv"
      },
      "source": [
        "# Part 1: Frozen Lake ⛄ (non slippery version)"
      ]
    },
    {
      "cell_type": "markdown",
      "metadata": {
        "id": "NAvihuHdy9tw"
      },
      "source": [
        "## Create and understand [FrozenLake environment ⛄]((https://gymnasium.farama.org/environments/toy_text/frozen_lake/)\n",
        "---\n",
        "\n",
        "💡 A good habit when you start to use an environment is to check its documentation\n",
        "\n",
        "👉 https://gymnasium.farama.org/environments/toy_text/frozen_lake/\n",
        "\n",
        "---\n",
        "\n",
        "We're going to train our Q-Learning agent **to navigate from the starting state (S) to the goal state (G) by walking only on frozen tiles (F) and avoid holes (H)**.\n",
        "\n",
        "We can have two sizes of environment:\n",
        "\n",
        "- `map_name=\"4x4\"`: a 4x4 grid version\n",
        "- `map_name=\"8x8\"`: a 8x8 grid version\n",
        "\n",
        "\n",
        "The environment has two modes:\n",
        "\n",
        "- `is_slippery=False`: The agent always moves **in the intended direction** due to the non-slippery nature of the frozen lake (deterministic).\n",
        "- `is_slippery=True`: The agent **may not always move in the intended direction** due to the slippery nature of the frozen lake (stochastic)."
      ]
    },
    {
      "cell_type": "markdown",
      "metadata": {
        "id": "UaW_LHfS0PY2"
      },
      "source": [
        "For now let's keep it simple with the 4x4 map and non-slippery.\n",
        "We add a parameter called `render_mode` that specifies how the environment should be visualised. In our case because we **want to record a video of the environment at the end, we need to set render_mode to rgb_array**.\n",
        "\n",
        "As [explained in the documentation](https://gymnasium.farama.org/api/env/#gymnasium.Env.render) “rgb_array”: Return a single frame representing the current state of the environment. A frame is a np.ndarray with shape (x, y, 3) representing RGB values for an x-by-y pixel image."
      ]
    },
    {
      "cell_type": "code",
      "execution_count": null,
      "metadata": {
        "id": "IzJnb8O3y8up"
      },
      "outputs": [],
      "source": [
        "# Create the FrozenLake-v1 environment using 4x4 map and non-slippery version and render_mode=\"rgb_array\"\n",
        "# map_name=\"4x4\" 指预加载地图（即出厂自带的默认地图）\n",
        "env = gym.make('FrozenLake-v1', map_name=\"4x4\", is_slippery=False, render_mode=\"rgb_array\") # TODO use the correct parameters"
      ]
    },
    {
      "cell_type": "markdown",
      "metadata": {
        "id": "Ji_UrI5l2zzn"
      },
      "source": [
        "### Solution"
      ]
    },
    {
      "cell_type": "code",
      "execution_count": null,
      "metadata": {
        "id": "jNxUbPMP0akP"
      },
      "outputs": [],
      "source": [
        "env = gym.make(\"FrozenLake-v1\", map_name=\"4x4\", is_slippery=False, render_mode=\"rgb_array\")"
      ]
    },
    {
      "cell_type": "markdown",
      "metadata": {
        "id": "KASNViqL4tZn"
      },
      "source": [
        "You can create your own custom grid like this:\n",
        "\n",
        "```python\n",
        "desc=[\"SFFF\", \"FHFH\", \"FFFH\", \"HFFG\"]\n",
        "gym.make('FrozenLake-v1', desc=desc, is_slippery=True)\n",
        "```\n",
        "\n",
        "but we'll use the default environment for now."
      ]
    },
    {
      "cell_type": "markdown",
      "metadata": {
        "id": "SXbTfdeJ1Xi9"
      },
      "source": [
        "### Let's see what the Environment looks like:\n"
      ]
    },
    {
      "cell_type": "code",
      "execution_count": null,
      "metadata": {
        "id": "ZNPG0g_UGCfh"
      },
      "outputs": [],
      "source": [
        "# We create our environment with gym.make(\"<name_of_the_environment>\")- `is_slippery=False`: The agent always moves in the intended direction due to the non-slippery nature of the frozen lake (deterministic).\n",
        "print(\"_____OBSERVATION SPACE_____ \\n\")\n",
        "print(\"Observation Space\", env.observation_space)\n",
        "print(\"Sample observation\", env.observation_space.sample()) # Get a random observation"
      ]
    },
    {
      "cell_type": "markdown",
      "metadata": {
        "id": "2MXc15qFE0M9"
      },
      "source": [
        "We see with `Observation Space Shape Discrete(16)` that the observation is an integer representing the **agent’s current position as current_row * ncols + current_col (where both the row and col start at 0)**.\n",
        "\n",
        "For example, the goal position in the 4x4 map can be calculated as follows: 3 * 4 + 3 = 15. The number of possible observations is dependent on the size of the map. **For example, the 4x4 map has 16 possible observations.**\n",
        "\n",
        "\n",
        "For instance, this is what state = 0 looks like:\n",
        "\n",
        "<img src=\"https://huggingface.co/datasets/huggingface-deep-rl-course/course-images/resolve/main/en/notebooks/unit2/frozenlake.png\" alt=\"FrozenLake\">"
      ]
    },
    {
      "cell_type": "code",
      "execution_count": null,
      "metadata": {
        "id": "We5WqOBGLoSm"
      },
      "outputs": [],
      "source": [
        "# env.action_space已经创建好的现成环境（frozenlake）\n",
        "\n",
        "print(\"\\n _____ACTION SPACE_____ \\n\")\n",
        "print(\"Action Space Shape\", env.action_space.n)\n",
        "print(\"Action Space Sample\", env.action_space.sample()) # Take a random action"
      ]
    },
    {
      "cell_type": "markdown",
      "metadata": {
        "id": "MyxXwkI2Magx"
      },
      "source": [
        "The action space (the set of possible actions the agent can take) is discrete with 4 actions available 🎮:\n",
        "- 0: GO LEFT\n",
        "- 1: GO DOWN\n",
        "- 2: GO RIGHT\n",
        "- 3: GO UP\n",
        "\n",
        "Reward function 💰:\n",
        "- Reach goal: +1\n",
        "- Reach hole: 0\n",
        "- Reach frozen: 0"
      ]
    },
    {
      "cell_type": "markdown",
      "metadata": {
        "id": "1pFhWblk3Awr"
      },
      "source": [
        "## Create and Initialize the Q-table 🗄️\n",
        "\n",
        "(👀 Step 1 of the pseudocode)\n",
        "\n",
        "<img src=\"https://huggingface.co/datasets/huggingface-deep-rl-course/course-images/resolve/main/en/unit3/Q-learning-2.jpg\" alt=\"Q-Learning\" width=\"100%\"/>\n",
        "\n",
        "\n",
        "It's time to initialize our Q-table! To know how many rows (states) and columns (actions) to use, we need to know the action and observation space. We already know their values from before, but we'll want to obtain them programmatically so that our algorithm generalizes for different environments. Gym provides us a way to do that: `env.action_space.n` and `env.observation_space.n`\n"
      ]
    },
    {
      "cell_type": "code",
      "execution_count": null,
      "metadata": {
        "id": "y3ZCdluj3k0l"
      },
      "outputs": [],
      "source": [
        "state_space = env.observation_space.n\n",
        "print(\"There are \", state_space, \" possible states\")\n",
        "\n",
        "action_space = env.action_space.n\n",
        "print(\"There are \", action_space, \" possible actions\")"
      ]
    },
    {
      "cell_type": "code",
      "execution_count": null,
      "metadata": {
        "id": "rCddoOXM3UQH"
      },
      "outputs": [],
      "source": [
        "# Let's create our Qtable of size (state_space, action_space) and initialized each values at 0 using np.zeros. np.zeros needs a tuple (a,b)\n",
        "# 在Python中，定义一个函数要使用def语句，依次写出函数名、括号、括号中的参数和冒号:，然后，在缩进块中编写函数体，函数的返回值用return语句返回。\n",
        "def initialize_q_table(a, b):\n",
        "  Qtable =np.zeros((a, b))\n",
        "  return Qtable"
      ]
    },
    {
      "cell_type": "code",
      "execution_count": null,
      "metadata": {
        "id": "9YfvrqRt3jdR"
      },
      "outputs": [],
      "source": [
        "Qtable_frozenlake = initialize_q_table(state_space, action_space)"
      ]
    },
    {
      "cell_type": "markdown",
      "metadata": {
        "id": "67OdoKL63eDD"
      },
      "source": [
        "### Solution"
      ]
    },
    {
      "cell_type": "code",
      "execution_count": null,
      "metadata": {
        "id": "HuTKv3th3ohG"
      },
      "outputs": [],
      "source": [
        "state_space = env.observation_space.n\n",
        "print(\"There are \", state_space, \" possible states\")\n",
        "\n",
        "action_space = env.action_space.n\n",
        "print(\"There are \", action_space, \" possible actions\")"
      ]
    },
    {
      "cell_type": "code",
      "execution_count": null,
      "metadata": {
        "id": "lnrb_nX33fJo"
      },
      "outputs": [],
      "source": [
        "# Let's create our Qtable of size (state_space, action_space) and initialized each values at 0 using np.zeros\n",
        "def initialize_q_table(state_space, action_space):\n",
        "  Qtable = np.zeros((state_space, action_space))\n",
        "  return Qtable"
      ]
    },
    {
      "cell_type": "code",
      "execution_count": null,
      "metadata": {
        "id": "Y0WlgkVO3Jf9"
      },
      "outputs": [],
      "source": [
        "Qtable_frozenlake = initialize_q_table(state_space, action_space)"
      ]
    },
    {
      "cell_type": "markdown",
      "metadata": {
        "id": "Atll4Z774gri"
      },
      "source": [
        "## Define the greedy policy 🤖\n",
        "\n",
        "Remember we have two policies since Q-Learning is an **off-policy** algorithm. This means we're using a **different policy for acting and updating the value function**.\n",
        "\n",
        "- Epsilon-greedy policy (acting policy)\n",
        "- Greedy-policy (updating policy)\n",
        "\n",
        "The greedy policy will also be the final policy we'll have when the Q-learning agent completes training. The greedy policy is used to select an action using the Q-table.\n",
        "\n",
        "<img src=\"https://huggingface.co/datasets/huggingface-deep-rl-course/course-images/resolve/main/en/unit3/off-on-4.jpg\" alt=\"Q-Learning\" width=\"100%\"/>\n"
      ]
    },
    {
      "cell_type": "code",
      "execution_count": null,
      "metadata": {
        "id": "E3SCLmLX5bWG"
      },
      "outputs": [],
      "source": [
        "# import numpy as np\n",
        "def greedy_policy(Qtable, state):\n",
        "  # Exploitation: take the action with the highest state, action value\n",
        "  action =np.argmax(Qtable[state][:])\n",
        "\n",
        "  return action"
      ]
    },
    {
      "cell_type": "markdown",
      "source": [
        "![屏幕截图 2025-06-14 102433.png](data:image/png;base64,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)"
      ],
      "metadata": {
        "id": "hOQjQSC3QIY3"
      }
    },
    {
      "cell_type": "markdown",
      "metadata": {
        "id": "B2_-8b8z5k54"
      },
      "source": [
        "#### Solution"
      ]
    },
    {
      "cell_type": "code",
      "execution_count": null,
      "metadata": {
        "id": "se2OzWGW5kYJ"
      },
      "outputs": [],
      "source": [
        "def greedy_policy(Qtable, state):\n",
        "  # Exploitation: take the action with the highest state, action value\n",
        "  action = np.argmax(Qtable[state][:])\n",
        "\n",
        "  return action"
      ]
    },
    {
      "cell_type": "markdown",
      "metadata": {
        "id": "flILKhBU3yZ7"
      },
      "source": [
        "##Define the epsilon-greedy policy 🤖\n",
        "\n",
        "Epsilon-greedy is the training policy that handles the exploration/exploitation trade-off.\n",
        "\n",
        "The idea with epsilon-greedy:\n",
        "\n",
        "- With *probability 1 - ɛ* : **we do exploitation** (i.e. our agent selects the action with the highest state-action pair value).\n",
        "\n",
        "- With *probability ɛ*: we do **exploration** (trying a random action).\n",
        "\n",
        "As the training continues, we progressively **reduce the epsilon value since we will need less and less exploration and more exploitation.**\n",
        "\n",
        "<img src=\"https://huggingface.co/datasets/huggingface-deep-rl-course/course-images/resolve/main/en/unit3/Q-learning-4.jpg\" alt=\"Q-Learning\" width=\"100%\"/>\n"
      ]
    },
    {
      "cell_type": "code",
      "execution_count": null,
      "metadata": {
        "id": "6Bj7x3in3_Pq"
      },
      "outputs": [],
      "source": [
        "#random.random(): 始终生成0到1之间的随机浮点数。\n",
        "#random.uniform(a, b): 可以生成指定范围内的随机浮点数。\n",
        "\n",
        "def epsilon_greedy_policy(Qtable, state, epsilon):\n",
        "  # Randomly generate a number between 0 and 1\n",
        "  random_num =random.random()\n",
        "  # if random_num > greater than epsilon --> exploitation\n",
        "  if random_num > epsilon:\n",
        "    # Take the action with the highest value given a state\n",
        "    # np.argmax can be useful here\n",
        "    # 也可以：action = greedy_policy(Qtable, state)\n",
        "    action = np.argmax(Qtable[state][:])\n",
        "  # else --> exploration\n",
        "  else:\n",
        "    action = env.action_space.sample()# Take a random action\n",
        "\n",
        "  return action"
      ]
    },
    {
      "cell_type": "markdown",
      "metadata": {
        "id": "8R5ej1fS4P2V"
      },
      "source": [
        "#### Solution"
      ]
    },
    {
      "cell_type": "code",
      "execution_count": null,
      "metadata": {
        "id": "cYxHuckr4LiG"
      },
      "outputs": [],
      "source": [
        "def epsilon_greedy_policy(Qtable, state, epsilon):\n",
        "  # Randomly generate a number between 0 and 1\n",
        "  random_num = random.uniform(0,1)\n",
        "  # if random_num > greater than epsilon --> exploitation\n",
        "  if random_num > epsilon:\n",
        "    # Take the action with the highest value given a state\n",
        "    # np.argmax can be useful here\n",
        "    action = greedy_policy(Qtable, state)\n",
        "  # else --> exploration\n",
        "  else:\n",
        "    action = env.action_space.sample()\n",
        "\n",
        "  return action"
      ]
    },
    {
      "cell_type": "markdown",
      "metadata": {
        "id": "hW80DealcRtu"
      },
      "source": [
        "## Define the hyperparameters ⚙️\n",
        "\n",
        "The exploration related hyperparamters are some of the most important ones.\n",
        "\n",
        "- We need to make sure that our agent **explores enough of the state space** to learn a good value approximation. To do that, we need to have progressive decay of the epsilon.\n",
        "- If you decrease epsilon too fast (too high decay_rate), **you take the risk that your agent will be stuck**, since your agent didn't explore enough of the state space and hence can't solve the problem."
      ]
    },
    {
      "cell_type": "code",
      "execution_count": null,
      "metadata": {
        "id": "Y1tWn0tycWZ1"
      },
      "outputs": [],
      "source": [
        "# Training parameters\n",
        "n_training_episodes = 10000  # Total training episodes\n",
        "learning_rate = 0.7          # Learning rate\n",
        "\n",
        "# Evaluation parameters\n",
        "n_eval_episodes = 100        # Total number of test episodes\n",
        "\n",
        "# Environment parameters\n",
        "env_id = \"FrozenLake-v1\"     # Name of the environment\n",
        "max_steps = 99               # Max steps per episode\n",
        "gamma = 0.95                 # Discounting rate\n",
        "eval_seed = []               # The evaluation seed of the environment\n",
        "\n",
        "# Exploration parameters\n",
        "max_epsilon = 1.0             # Exploration probability at start\n",
        "min_epsilon = 0.05            # Minimum exploration probability\n",
        "decay_rate = 0.0005            # Exponential decay rate for exploration prob"
      ]
    },
    {
      "cell_type": "markdown",
      "metadata": {
        "id": "cDb7Tdx8atfL"
      },
      "source": [
        "## Create the training loop method\n",
        "\n",
        "<img src=\"https://huggingface.co/datasets/huggingface-deep-rl-course/course-images/resolve/main/en/unit3/Q-learning-2.jpg\" alt=\"Q-Learning\" width=\"100%\"/>\n",
        "\n",
        "The training loop goes like this:\n",
        "\n",
        "```\n",
        "For episode in the total of training episodes:\n",
        "\n",
        "Reduce epsilon (since we need less and less exploration)\n",
        "Reset the environment\n",
        "\n",
        "  For step in max timesteps:    \n",
        "    Choose the action At using epsilon greedy policy\n",
        "    Take the action (a) and observe the outcome state(s') and reward (r)\n",
        "    Update the Q-value Q(s,a) using Bellman equation Q(s,a) + lr [R(s,a) + gamma * max Q(s',a') - Q(s,a)]\n",
        "    If done, finish the episode\n",
        "    Our next state is the new state\n",
        "```"
      ]
    },
    {
      "cell_type": "code",
      "execution_count": null,
      "metadata": {
        "id": "paOynXy3aoJW"
      },
      "outputs": [],
      "source": [
        "def train(n_training_episodes, min_epsilon, max_epsilon, decay_rate, env, max_steps, Qtable):\n",
        "  for episode in tqdm(range(n_training_episodes)):\n",
        "    # Reduce epsilon (because we need less and less exploration)\n",
        "    epsilon = min_epsilon + (max_epsilon - min_epsilon)*np.exp(-decay_rate*episode)\n",
        "    # Reset the environment\n",
        "    state, info = env.reset()\n",
        "    step = 0\n",
        "    terminated = False\n",
        "    truncated = False\n",
        "\n",
        "    # repeat\n",
        "    for step in range(max_steps):\n",
        "      # Choose the action At using epsilon greedy policy\n",
        "      action = epsilon_greedy_policy(Qtable, state, epsilon)\n",
        "\n",
        "      # Take action At and observe Rt+1 and St+1\n",
        "      # Take the action (a) and observe the outcome state(s') and reward (r)\n",
        "      new_state, reward, terminated, truncated, info = env.step(action)\n",
        "\n",
        "      # Update Q(s,a):= Q(s,a) + lr [R(s,a) + gamma * max Q(s',a') - Q(s,a)]\n",
        "      # Qtable[new_state][greedy_policy(Qtable, new_state) 等价于 np.max(Qtable[new_state]\n",
        "      Qtable[state][action] = Qtable[state][action] + learning_rate * (reward + gamma * Qtable[new_state][greedy_policy(Qtable, new_state)] - Qtable[state][action])\n",
        "\n",
        "      # If terminated or truncated finish the episode\n",
        "      if terminated or truncated:\n",
        "        break\n",
        "\n",
        "      # Our next state is the new state\n",
        "      state = new_state\n",
        "  return Qtable"
      ]
    },
    {
      "cell_type": "markdown",
      "source": [
        "![image.png](data:image/png;base64,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)"
      ],
      "metadata": {
        "id": "T3W6EFIC1Z5J"
      }
    },
    {
      "cell_type": "markdown",
      "metadata": {
        "id": "Pnpk2ePoem3r"
      },
      "source": [
        "#### Solution"
      ]
    },
    {
      "cell_type": "code",
      "execution_count": null,
      "metadata": {
        "id": "IyZaYbUAeolw"
      },
      "outputs": [],
      "source": [
        "def train(n_training_episodes, min_epsilon, max_epsilon, decay_rate, env, max_steps, Qtable):\n",
        "  for episode in tqdm(range(n_training_episodes)):\n",
        "    # Reduce epsilon (because we need less and less exploration)\n",
        "    epsilon = min_epsilon + (max_epsilon - min_epsilon)*np.exp(-decay_rate*episode)\n",
        "    # Reset the environment\n",
        "    state, info = env.reset()\n",
        "    step = 0\n",
        "    terminated = False\n",
        "    truncated = False\n",
        "\n",
        "    # repeat\n",
        "    for step in range(max_steps):\n",
        "      # Choose the action At using epsilon greedy policy\n",
        "      action = epsilon_greedy_policy(Qtable, state, epsilon)\n",
        "\n",
        "      # Take action At and observe Rt+1 and St+1\n",
        "      # Take the action (a) and observe the outcome state(s') and reward (r)\n",
        "      new_state, reward, terminated, truncated, info = env.step(action)\n",
        "\n",
        "      # Update Q(s,a):= Q(s,a) + lr [R(s,a) + gamma * max Q(s',a') - Q(s,a)]\n",
        "      Qtable[state][action] = Qtable[state][action] + learning_rate * (reward + gamma * np.max(Qtable[new_state]) - Qtable[state][action])\n",
        "\n",
        "      # If terminated or truncated finish the episode\n",
        "      if terminated or truncated:\n",
        "        break\n",
        "\n",
        "      # Our next state is the new state\n",
        "      state = new_state\n",
        "  return Qtable"
      ]
    },
    {
      "cell_type": "markdown",
      "metadata": {
        "id": "WLwKQ4tUdhGI"
      },
      "source": [
        "## Train the Q-Learning agent 🏃"
      ]
    },
    {
      "cell_type": "code",
      "execution_count": null,
      "metadata": {
        "id": "DPBxfjJdTCOH"
      },
      "outputs": [],
      "source": [
        "Qtable_frozenlake = train(n_training_episodes, min_epsilon, max_epsilon, decay_rate, env, max_steps, Qtable_frozenlake)"
      ]
    },
    {
      "cell_type": "markdown",
      "metadata": {
        "id": "yVeEhUCrc30L"
      },
      "source": [
        "## Let's see what our Q-Learning table looks like now 👀"
      ]
    },
    {
      "cell_type": "code",
      "execution_count": null,
      "metadata": {
        "id": "nmfchsTITw4q"
      },
      "outputs": [],
      "source": [
        "Qtable_frozenlake"
      ]
    },
    {
      "cell_type": "markdown",
      "metadata": {
        "id": "pUrWkxsHccXD"
      },
      "source": [
        "## The evaluation method 📝\n",
        "\n",
        "- We defined the evaluation method that we're going to use to test our Q-Learning agent."
      ]
    },
    {
      "cell_type": "code",
      "execution_count": null,
      "metadata": {
        "id": "jNl0_JO2cbkm"
      },
      "outputs": [],
      "source": [
        "def evaluate_agent(env, max_steps, n_eval_episodes, Q, seed):\n",
        "  \"\"\"\n",
        "  Evaluate the agent for ``n_eval_episodes`` episodes and returns average reward and std of reward.\n",
        "  :param env: The evaluation environment\n",
        "  :param max_steps: Maximum number of steps per episode\n",
        "  :param n_eval_episodes: Number of episode to evaluate the agent\n",
        "  :param Q: The Q-table\n",
        "  :param seed: The evaluation seed array (for taxi-v3)\n",
        "  \"\"\"\n",
        "  episode_rewards = []\n",
        "  for episode in tqdm(range(n_eval_episodes)):\n",
        "    if seed:\n",
        "      state, info = env.reset(seed=seed[episode])\n",
        "    else:\n",
        "      state, info = env.reset()\n",
        "    step = 0\n",
        "    truncated = False\n",
        "    terminated = False\n",
        "    total_rewards_ep = 0\n",
        "\n",
        "    for step in range(max_steps):\n",
        "      # Take the action (index) that have the maximum expected future reward given that state\n",
        "      action = greedy_policy(Q, state)\n",
        "      new_state, reward, terminated, truncated, info = env.step(action)\n",
        "      total_rewards_ep += reward\n",
        "\n",
        "      if terminated or truncated:\n",
        "        break\n",
        "      state = new_state\n",
        "    episode_rewards.append(total_rewards_ep)\n",
        "  mean_reward = np.mean(episode_rewards)\n",
        "  std_reward = np.std(episode_rewards)\n",
        "\n",
        "  return mean_reward, std_reward"
      ]
    },
    {
      "cell_type": "markdown",
      "metadata": {
        "id": "0jJqjaoAnxUo"
      },
      "source": [
        "## Evaluate our Q-Learning agent 📈\n",
        "\n",
        "- Usually, you should have a mean reward of 1.0\n",
        "- The **environment is relatively easy** since the state space is really small (16). What you can try to do is [to replace it with the slippery version](https://gymnasium.farama.org/environments/toy_text/frozen_lake/), which introduces stochasticity, making the environment more complex."
      ]
    },
    {
      "cell_type": "code",
      "execution_count": null,
      "metadata": {
        "id": "fAgB7s0HEFMm"
      },
      "outputs": [],
      "source": [
        "# Evaluate our Agent\n",
        "mean_reward, std_reward = evaluate_agent(env, max_steps, n_eval_episodes, Qtable_frozenlake, eval_seed)\n",
        "print(f\"Mean_reward={mean_reward:.2f} +/- {std_reward:.2f}\")"
      ]
    },
    {
      "cell_type": "markdown",
      "metadata": {
        "id": "yxaP3bPdg1DV"
      },
      "source": [
        "## Publish our trained model to the Hub 🔥\n",
        "\n",
        "Now that we saw good results after the training, **we can publish our trained model to the Hub 🤗 with one line of code**.\n",
        "\n",
        "Here's an example of a Model Card:\n",
        "\n",
        "<img src=\"https://huggingface.co/datasets/huggingface-deep-rl-course/course-images/resolve/main/en/notebooks/unit2/modelcard.png\" alt=\"Model card\" width=\"100%\"/>\n"
      ]
    },
    {
      "cell_type": "markdown",
      "metadata": {
        "id": "kv0k1JQjpMq3"
      },
      "source": [
        "Under the hood, the Hub uses git-based repositories (don't worry if you don't know what git is), which means you can update the model with new versions as you experiment and improve your agent."
      ]
    },
    {
      "cell_type": "markdown",
      "metadata": {
        "id": "QZ5LrR-joIHD"
      },
      "source": [
        "#### Do not modify this code"
      ]
    },
    {
      "cell_type": "code",
      "execution_count": null,
      "metadata": {
        "id": "Jex3i9lZ8ksX"
      },
      "outputs": [],
      "source": [
        "from huggingface_hub import HfApi, snapshot_download\n",
        "from huggingface_hub.repocard import metadata_eval_result, metadata_save\n",
        "\n",
        "from pathlib import Path\n",
        "import datetime\n",
        "import json"
      ]
    },
    {
      "cell_type": "code",
      "execution_count": null,
      "metadata": {
        "id": "Qo57HBn3W74O"
      },
      "outputs": [],
      "source": [
        "def record_video(env, Qtable, out_directory, fps=1):\n",
        "  \"\"\"\n",
        "  Generate a replay video of the agent\n",
        "  :param env\n",
        "  :param Qtable: Qtable of our agent\n",
        "  :param out_directory\n",
        "  :param fps: how many frame per seconds (with taxi-v3 and frozenlake-v1 we use 1)\n",
        "  \"\"\"\n",
        "  images = []\n",
        "  terminated = False\n",
        "  truncated = False\n",
        "  state, info = env.reset(seed=random.randint(0,500))\n",
        "  img = env.render()\n",
        "  images.append(img)\n",
        "  while not terminated or truncated:\n",
        "    # Take the action (index) that have the maximum expected future reward given that state\n",
        "    action = np.argmax(Qtable[state][:])\n",
        "    state, reward, terminated, truncated, info = env.step(action) # We directly put next_state = state for recording logic\n",
        "    img = env.render()\n",
        "    images.append(img)\n",
        "  imageio.mimsave(out_directory, [np.array(img) for i, img in enumerate(images)], fps=fps)"
      ]
    },
    {
      "cell_type": "code",
      "source": [
        "def push_to_hub(\n",
        "    repo_id, model, env, video_fps=1, local_repo_path=\"hub\"\n",
        "):\n",
        "    \"\"\"\n",
        "    Evaluate, Generate a video and Upload a model to Hugging Face Hub.\n",
        "    This method does the complete pipeline:\n",
        "    - It evaluates the model\n",
        "    - It generates the model card\n",
        "    - It generates a replay video of the agent\n",
        "    - It pushes everything to the Hub\n",
        "\n",
        "    :param repo_id: repo_id: id of the model repository from the Hugging Face Hub\n",
        "    :param env\n",
        "    :param video_fps: how many frame per seconds to record our video replay\n",
        "    (with taxi-v3 and frozenlake-v1 we use 1)\n",
        "    :param local_repo_path: where the local repository is\n",
        "    \"\"\"\n",
        "    _, repo_name = repo_id.split(\"/\")\n",
        "\n",
        "    eval_env = env\n",
        "    api = HfApi()\n",
        "\n",
        "    # Step 1: Create the repo\n",
        "    repo_url = api.create_repo(\n",
        "        repo_id=repo_id,\n",
        "        exist_ok=True,\n",
        "    )\n",
        "\n",
        "    # Step 2: Download files\n",
        "    repo_local_path = Path(snapshot_download(repo_id=repo_id))\n",
        "\n",
        "    # Step 3: Save the model\n",
        "    if env.spec.kwargs.get(\"map_name\"):\n",
        "        model[\"map_name\"] = env.spec.kwargs.get(\"map_name\")\n",
        "        if env.spec.kwargs.get(\"is_slippery\", \"\") == False:\n",
        "            model[\"slippery\"] = False\n",
        "\n",
        "    # Pickle the model\n",
        "    with open((repo_local_path) / \"q-learning.pkl\", \"wb\") as f:\n",
        "        pickle.dump(model, f)\n",
        "\n",
        "    # Step 4: Evaluate the model and build JSON with evaluation metrics\n",
        "    mean_reward, std_reward = evaluate_agent(\n",
        "        eval_env, model[\"max_steps\"], model[\"n_eval_episodes\"], model[\"qtable\"], model[\"eval_seed\"]\n",
        "    )\n",
        "\n",
        "    evaluate_data = {\n",
        "        \"env_id\": model[\"env_id\"],\n",
        "        \"mean_reward\": mean_reward,\n",
        "        \"n_eval_episodes\": model[\"n_eval_episodes\"],\n",
        "        \"eval_datetime\": datetime.datetime.now().isoformat()\n",
        "    }\n",
        "\n",
        "    # Write a JSON file called \"results.json\" that will contain the\n",
        "    # evaluation results\n",
        "    with open(repo_local_path / \"results.json\", \"w\") as outfile:\n",
        "        json.dump(evaluate_data, outfile)\n",
        "\n",
        "    # Step 5: Create the model card\n",
        "    env_name = model[\"env_id\"]\n",
        "    if env.spec.kwargs.get(\"map_name\"):\n",
        "        env_name += \"-\" + env.spec.kwargs.get(\"map_name\")\n",
        "\n",
        "    if env.spec.kwargs.get(\"is_slippery\", \"\") == False:\n",
        "        env_name += \"-\" + \"no_slippery\"\n",
        "\n",
        "    metadata = {}\n",
        "    metadata[\"tags\"] = [env_name, \"q-learning\", \"reinforcement-learning\", \"custom-implementation\"]\n",
        "\n",
        "    # Add metrics\n",
        "    eval = metadata_eval_result(\n",
        "        model_pretty_name=repo_name,\n",
        "        task_pretty_name=\"reinforcement-learning\",\n",
        "        task_id=\"reinforcement-learning\",\n",
        "        metrics_pretty_name=\"mean_reward\",\n",
        "        metrics_id=\"mean_reward\",\n",
        "        metrics_value=f\"{mean_reward:.2f} +/- {std_reward:.2f}\",\n",
        "        dataset_pretty_name=env_name,\n",
        "        dataset_id=env_name,\n",
        "    )\n",
        "\n",
        "    # Merges both dictionaries\n",
        "    metadata = {**metadata, **eval}\n",
        "\n",
        "    model_card = f\"\"\"\n",
        "  # **Q-Learning** Agent playing1 **{env_id}**\n",
        "  This is a trained model of a **Q-Learning** agent playing **{env_id}** .\n",
        "\n",
        "  ## Usage\n",
        "\n",
        "  ```python\n",
        "\n",
        "  model = load_from_hub(repo_id=\"{repo_id}\", filename=\"q-learning.pkl\")\n",
        "\n",
        "  # Don't forget to check if you need to add additional attributes (is_slippery=False etc)\n",
        "  env = gym.make(model[\"env_id\"])\n",
        "  ```\n",
        "  \"\"\"\n",
        "\n",
        "    evaluate_agent(env, model[\"max_steps\"], model[\"n_eval_episodes\"], model[\"qtable\"], model[\"eval_seed\"])\n",
        "\n",
        "    readme_path = repo_local_path / \"README.md\"\n",
        "    readme = \"\"\n",
        "    print(readme_path.exists())\n",
        "    if readme_path.exists():\n",
        "        with readme_path.open(\"r\", encoding=\"utf8\") as f:\n",
        "            readme = f.read()\n",
        "    else:\n",
        "        readme = model_card\n",
        "\n",
        "    with readme_path.open(\"w\", encoding=\"utf-8\") as f:\n",
        "        f.write(readme)\n",
        "\n",
        "    # Save our metrics to Readme metadata\n",
        "    metadata_save(readme_path, metadata)\n",
        "\n",
        "    # Step 6: Record a video\n",
        "    video_path = repo_local_path / \"replay.mp4\"\n",
        "    record_video(env, model[\"qtable\"], video_path, video_fps)\n",
        "\n",
        "    # Step 7. Push everything to the Hub\n",
        "    api.upload_folder(\n",
        "        repo_id=repo_id,\n",
        "        folder_path=repo_local_path,\n",
        "        path_in_repo=\".\",\n",
        "    )\n",
        "\n",
        "    print(\"Your model is pushed to the Hub. You can view your model here: \", repo_url)"
      ],
      "metadata": {
        "id": "U4mdUTKkGnUd"
      },
      "execution_count": null,
      "outputs": []
    },
    {
      "cell_type": "markdown",
      "metadata": {
        "id": "81J6cet_ogSS"
      },
      "source": [
        "### .\n",
        "\n",
        "By using `push_to_hub` **you evaluate, record a replay, generate a model card of your agent and push it to the Hub**.\n",
        "\n",
        "This way:\n",
        "- You can **showcase our work** 🔥\n",
        "- You can **visualize your agent playing** 👀\n",
        "- You can **share an agent with the community that others can use** 💾\n",
        "- You can **access a leaderboard 🏆 to see how well your agent is performing compared to your classmates** 👉 https://huggingface.co/spaces/huggingface-projects/Deep-Reinforcement-Learning-Leaderboard\n"
      ]
    },
    {
      "cell_type": "markdown",
      "metadata": {
        "id": "cWnFC0iZooTw"
      },
      "source": [
        "To be able to share your model with the community there are three more steps to follow:\n",
        "\n",
        "1️⃣ (If it's not already done) create an account to HF ➡ https://huggingface.co/join\n",
        "\n",
        "2️⃣ Sign in and then, you need to store your authentication token from the Hugging Face website.\n",
        "- Create a new token (https://huggingface.co/settings/tokens) **with write role**\n",
        "\n",
        "\n",
        "<img src=\"https://huggingface.co/datasets/huggingface-deep-rl-course/course-images/resolve/main/en/notebooks/create-token.jpg\" alt=\"Create HF Token\">\n"
      ]
    },
    {
      "cell_type": "code",
      "execution_count": null,
      "metadata": {
        "id": "QB5nIcxR8paT"
      },
      "outputs": [],
      "source": [
        "from huggingface_hub import notebook_login\n",
        "notebook_login()"
      ]
    },
    {
      "cell_type": "markdown",
      "metadata": {
        "id": "GyWc1x3-o3xG"
      },
      "source": [
        "If you don't want to use a Google Colab or a Jupyter Notebook, you need to use this command instead: `huggingface-cli login` (or `login`)"
      ]
    },
    {
      "cell_type": "markdown",
      "metadata": {
        "id": "Gc5AfUeFo3xH"
      },
      "source": [
        "3️⃣ We're now ready to push our trained agent to the 🤗 Hub 🔥 using `push_to_hub()` function\n",
        "\n",
        "- Let's create **the model dictionary that contains the hyperparameters and the Q_table**."
      ]
    },
    {
      "cell_type": "code",
      "execution_count": null,
      "metadata": {
        "id": "FiMqxqVHg0I4"
      },
      "outputs": [],
      "source": [
        "model = {\n",
        "    \"env_id\": env_id,\n",
        "    \"max_steps\": max_steps,\n",
        "    \"n_training_episodes\": n_training_episodes,\n",
        "    \"n_eval_episodes\": n_eval_episodes,\n",
        "    \"eval_seed\": eval_seed,\n",
        "\n",
        "    \"learning_rate\": learning_rate,\n",
        "    \"gamma\": gamma,\n",
        "\n",
        "    \"max_epsilon\": max_epsilon,\n",
        "    \"min_epsilon\": min_epsilon,\n",
        "    \"decay_rate\": decay_rate,\n",
        "\n",
        "    \"qtable\": Qtable_frozenlake\n",
        "}"
      ]
    },
    {
      "cell_type": "markdown",
      "metadata": {
        "id": "9kld-AEso3xH"
      },
      "source": [
        "Let's fill the `push_to_hub` function:\n",
        "\n",
        "- `repo_id`: the name of the Hugging Face Hub Repository that will be created/updated `\n",
        "(repo_id = {username}/{repo_name})`\n",
        "💡 A good `repo_id` is `{username}/q-{env_id}`\n",
        "- `model`: our model dictionary containing the hyperparameters and the Qtable.\n",
        "- `env`: the environment.\n",
        "- `commit_message`: message of the commit"
      ]
    },
    {
      "cell_type": "code",
      "execution_count": null,
      "metadata": {
        "id": "5sBo2umnXpPd"
      },
      "outputs": [],
      "source": [
        "model"
      ]
    },
    {
      "cell_type": "code",
      "execution_count": null,
      "metadata": {
        "id": "RpOTtSt83kPZ"
      },
      "outputs": [],
      "source": [
        "username = \"f1613954186\" # FILL THIS\n",
        "repo_name = \"q-FrozenLake-v1-4x4-noSlippery\"\n",
        "push_to_hub(\n",
        "    repo_id=f\"{username}/{repo_name}\",\n",
        "    model=model,\n",
        "    env=env)"
      ]
    },
    {
      "cell_type": "markdown",
      "metadata": {
        "id": "E2875IGsprzq"
      },
      "source": [
        "Congrats 🥳 you've just implemented from scratch, trained, and uploaded your first Reinforcement Learning agent.\n",
        "FrozenLake-v1 no_slippery is very simple environment, let's try a harder one 🔥."
      ]
    },
    {
      "cell_type": "markdown",
      "metadata": {
        "id": "18lN8Bz7yvLt"
      },
      "source": [
        "# Part 2: Taxi-v3 🚖\n",
        "\n",
        "## Create and understand [Taxi-v3 🚕](https://gymnasium.farama.org/environments/toy_text/taxi/)\n",
        "---\n",
        "\n",
        "💡 A good habit when you start to use an environment is to check its documentation\n",
        "\n",
        "👉 https://gymnasium.farama.org/environments/toy_text/taxi/\n",
        "\n",
        "---\n",
        "\n",
        "In `Taxi-v3` 🚕, there are four designated locations in the grid world indicated by R(ed), G(reen), Y(ellow), and B(lue).\n",
        "\n",
        "When the episode starts, **the taxi starts off at a random square** and the passenger is at a random location. The taxi drives to the passenger’s location, **picks up the passenger**, drives to the passenger’s destination (another one of the four specified locations), and then **drops off the passenger**. Once the passenger is dropped off, the episode ends.\n",
        "\n",
        "\n",
        "<img src=\"https://huggingface.co/datasets/huggingface-deep-rl-course/course-images/resolve/main/en/notebooks/unit2/taxi.png\" alt=\"Taxi\">\n"
      ]
    },
    {
      "cell_type": "code",
      "execution_count": null,
      "metadata": {
        "id": "gL0wpeO8gpej"
      },
      "outputs": [],
      "source": [
        "env = gym.make(\"Taxi-v3\", render_mode=\"rgb_array\")"
      ]
    },
    {
      "cell_type": "markdown",
      "metadata": {
        "id": "gBOaXgtsrmtT"
      },
      "source": [
        "There are **500 discrete states since there are 25 taxi positions, 5 possible locations of the passenger** (including the case when the passenger is in the taxi), and **4 destination locations.**\n"
      ]
    },
    {
      "cell_type": "code",
      "execution_count": null,
      "metadata": {
        "id": "_TPNaGSZrgqA"
      },
      "outputs": [],
      "source": [
        "state_space = env.observation_space.n\n",
        "print(\"There are \", state_space, \" possible states\")"
      ]
    },
    {
      "cell_type": "code",
      "execution_count": null,
      "metadata": {
        "id": "CdeeZuokrhit"
      },
      "outputs": [],
      "source": [
        "action_space = env.action_space.n\n",
        "print(\"There are \", action_space, \" possible actions\")"
      ]
    },
    {
      "cell_type": "markdown",
      "metadata": {
        "id": "R1r50Advrh5Q"
      },
      "source": [
        "The action space (the set of possible actions the agent can take) is discrete with **6 actions available 🎮**:\n",
        "\n",
        "- 0: move south\n",
        "- 1: move north\n",
        "- 2: move east\n",
        "- 3: move west\n",
        "- 4: pickup passenger\n",
        "- 5: drop off passenger\n",
        "\n",
        "Reward function 💰:\n",
        "\n",
        "- -1 per step unless other reward is triggered.\n",
        "- +20 delivering passenger.\n",
        "- -10 executing “pickup” and “drop-off” actions illegally."
      ]
    },
    {
      "cell_type": "code",
      "execution_count": null,
      "metadata": {
        "id": "US3yDXnEtY9I"
      },
      "outputs": [],
      "source": [
        "# Create our Q table with state_size rows and action_size columns (500x6)\n",
        "Qtable_taxi = initialize_q_table(state_space, action_space)\n",
        "print(Qtable_taxi)\n",
        "print(\"Q-table shape: \", Qtable_taxi .shape)"
      ]
    },
    {
      "cell_type": "markdown",
      "metadata": {
        "id": "gUMKPH0_LJyH"
      },
      "source": [
        "## Define the hyperparameters ⚙️\n",
        "\n",
        "⚠ DO NOT MODIFY EVAL_SEED: the eval_seed array **allows us to evaluate your agent with the same taxi starting positions for every classmate**"
      ]
    },
    {
      "cell_type": "code",
      "execution_count": null,
      "metadata": {
        "id": "AB6n__hhg7YS"
      },
      "outputs": [],
      "source": [
        "# Training parameters\n",
        "n_training_episodes = 25000   # Total training episodes\n",
        "learning_rate = 0.7           # Learning rate\n",
        "\n",
        "# Evaluation parameters\n",
        "n_eval_episodes = 100        # Total number of test episodes\n",
        "\n",
        "# DO NOT MODIFY EVAL_SEED\n",
        "eval_seed = [16,54,165,177,191,191,120,80,149,178,48,38,6,125,174,73,50,172,100,148,146,6,25,40,68,148,49,167,9,97,164,176,61,7,54,55,\n",
        " 161,131,184,51,170,12,120,113,95,126,51,98,36,135,54,82,45,95,89,59,95,124,9,113,58,85,51,134,121,169,105,21,30,11,50,65,12,43,82,145,152,97,106,55,31,85,38,\n",
        " 112,102,168,123,97,21,83,158,26,80,63,5,81,32,11,28,148] # Evaluation seed, this ensures that all classmates agents are trained on the same taxi starting position\n",
        "                                                          # Each seed has a specific starting state\n",
        "\n",
        "# Environment parameters\n",
        "env_id = \"Taxi-v3\"           # Name of the environment\n",
        "max_steps = 99               # Max steps per episode\n",
        "gamma = 0.95                 # Discounting rate\n",
        "\n",
        "# Exploration parameters\n",
        "max_epsilon = 1.0             # Exploration probability at start\n",
        "min_epsilon = 0.05           # Minimum exploration probability\n",
        "decay_rate = 0.005            # Exponential decay rate for exploration prob\n"
      ]
    },
    {
      "cell_type": "markdown",
      "metadata": {
        "id": "1TMORo1VLTsX"
      },
      "source": [
        "## Train our Q-Learning agent 🏃"
      ]
    },
    {
      "cell_type": "code",
      "execution_count": null,
      "metadata": {
        "id": "WwP3Y2z2eS-K"
      },
      "outputs": [],
      "source": [
        "Qtable_taxi = train(n_training_episodes, min_epsilon, max_epsilon, decay_rate, env, max_steps, Qtable_taxi)\n",
        "Qtable_taxi"
      ]
    },
    {
      "cell_type": "markdown",
      "metadata": {
        "id": "wPdu0SueLVl2"
      },
      "source": [
        "## Create a model dictionary 💾 and publish our trained model to the Hub 🔥\n",
        "\n",
        "- We create a model dictionary that will contain all the training hyperparameters for reproducibility and the Q-Table.\n"
      ]
    },
    {
      "cell_type": "code",
      "execution_count": null,
      "metadata": {
        "id": "0a1FpE_3hNYr"
      },
      "outputs": [],
      "source": [
        "model = {\n",
        "    \"env_id\": env_id,\n",
        "    \"max_steps\": max_steps,\n",
        "    \"n_training_episodes\": n_training_episodes,\n",
        "    \"n_eval_episodes\": n_eval_episodes,\n",
        "    \"eval_seed\": eval_seed,\n",
        "\n",
        "    \"learning_rate\": learning_rate,\n",
        "    \"gamma\": gamma,\n",
        "\n",
        "    \"max_epsilon\": max_epsilon,\n",
        "    \"min_epsilon\": min_epsilon,\n",
        "    \"decay_rate\": decay_rate,\n",
        "\n",
        "    \"qtable\": Qtable_taxi\n",
        "}"
      ]
    },
    {
      "cell_type": "code",
      "execution_count": null,
      "metadata": {
        "id": "dhQtiQozhOn1"
      },
      "outputs": [],
      "source": [
        "username = \"f1613954186\" # FILL THIS\n",
        "repo_name = \"q-Taxi-v3\" # FILL THIS\n",
        "push_to_hub(\n",
        "    repo_id=f\"{username}/{repo_name}\",\n",
        "    model=model,\n",
        "    env=env)"
      ]
    },
    {
      "cell_type": "markdown",
      "metadata": {
        "id": "ZgSdjgbIpRti"
      },
      "source": [
        "Now that it's on the Hub, you can compare the results of your Taxi-v3 with your classmates using the leaderboard 🏆 👉 https://huggingface.co/spaces/huggingface-projects/Deep-Reinforcement-Learning-Leaderboard\n",
        "\n",
        "\n",
        "<img src=\"https://huggingface.co/datasets/huggingface-deep-rl-course/course-images/resolve/main/en/notebooks/unit2/taxi-leaderboard.png\" alt=\"Taxi Leaderboard\">"
      ]
    },
    {
      "cell_type": "markdown",
      "metadata": {
        "id": "bzgIO70c0bu2"
      },
      "source": [
        "# Part 3: Load from Hub 🔽\n",
        "\n",
        "What's amazing with Hugging Face Hub 🤗 is that you can easily load powerful models from the community.\n",
        "\n",
        "Loading a saved model from the Hub is really easy:\n",
        "\n",
        "1. You go https://huggingface.co/models?other=q-learning to see the list of all the q-learning saved models.\n",
        "2. You select one and copy its repo_id\n",
        "\n",
        "<img src=\"https://huggingface.co/datasets/huggingface-deep-rl-course/course-images/resolve/main/en/notebooks/unit2/copy-id.png\" alt=\"Copy id\">"
      ]
    },
    {
      "cell_type": "markdown",
      "metadata": {
        "id": "gTth6thRoC6X"
      },
      "source": [
        "3. Then we just need to use `load_from_hub` with:\n",
        "- The repo_id\n",
        "- The filename: the saved model inside the repo."
      ]
    },
    {
      "cell_type": "markdown",
      "metadata": {
        "id": "EtrfoTaBoNrd"
      },
      "source": [
        "#### Do not modify this code"
      ]
    },
    {
      "cell_type": "code",
      "execution_count": null,
      "metadata": {
        "id": "Eo8qEzNtCaVI"
      },
      "outputs": [],
      "source": [
        "from urllib.error import HTTPError\n",
        "\n",
        "from huggingface_hub import hf_hub_download\n",
        "\n",
        "\n",
        "def load_from_hub(repo_id: str, filename: str) -> str:\n",
        "    \"\"\"\n",
        "    Download a model from Hugging Face Hub.\n",
        "    :param repo_id: id of the model repository from the Hugging Face Hub\n",
        "    :param filename: name of the model zip file from the repository\n",
        "    \"\"\"\n",
        "    # Get the model from the Hub, download and cache the model on your local disk\n",
        "    pickle_model = hf_hub_download(\n",
        "        repo_id=repo_id,\n",
        "        filename=filename\n",
        "    )\n",
        "\n",
        "    with open(pickle_model, 'rb') as f:\n",
        "      downloaded_model_file = pickle.load(f)\n",
        "\n",
        "    return downloaded_model_file"
      ]
    },
    {
      "cell_type": "markdown",
      "metadata": {
        "id": "b_sM2gNioPZH"
      },
      "source": [
        "### ."
      ]
    },
    {
      "cell_type": "code",
      "execution_count": null,
      "metadata": {
        "id": "JUm9lz2gCQcU"
      },
      "outputs": [],
      "source": [
        "model = load_from_hub(repo_id=\"saching12/taxi-v3\", filename=\"q-learning.pkl\") # Try to use another model\n",
        "\n",
        "print(model)\n",
        "env = gym.make(model[\"env_id\"])\n",
        "\n",
        "evaluate_agent(env, model[\"max_steps\"], model[\"n_eval_episodes\"], model[\"qtable\"], model[\"eval_seed\"])"
      ]
    },
    {
      "cell_type": "code",
      "execution_count": null,
      "metadata": {
        "id": "O7pL8rg1MulN"
      },
      "outputs": [],
      "source": [
        "model = load_from_hub(repo_id=\"ThomasSimonini/q-FrozenLake-v1-no-slippery\", filename=\"q-learning.pkl\") # Try to use another model\n",
        "\n",
        "env = gym.make(model[\"env_id\"], is_slippery=False)\n",
        "\n",
        "evaluate_agent(env, model[\"max_steps\"], model[\"n_eval_episodes\"], model[\"qtable\"], model[\"eval_seed\"])"
      ]
    },
    {
      "cell_type": "markdown",
      "metadata": {
        "id": "BQAwLnYFPk-s"
      },
      "source": [
        "## Some additional challenges 🏆\n",
        "\n",
        "The best way to learn **is to try things on your own**! As you saw, the current agent is not doing great. As a first suggestion, you can train for more steps. With 1,000,000 steps, we saw some great results!\n",
        "\n",
        "In the [Leaderboard](https://huggingface.co/spaces/huggingface-projects/Deep-Reinforcement-Learning-Leaderboard) you will find your agents. Can you get to the top?\n",
        "\n",
        "Here are some ideas to climb up the leaderboard:\n",
        "\n",
        "* Train more steps\n",
        "* Try different hyperparameters by looking at what your classmates have done.\n",
        "* **Push your new trained model** on the Hub 🔥\n",
        "\n",
        "Are walking on ice and driving taxis too boring to you? Try to **change the environment**, why not use FrozenLake-v1 slippery version? Check how they work [using the gymnasium documentation](https://gymnasium.farama.org/) and have fun 🎉."
      ]
    },
    {
      "cell_type": "markdown",
      "metadata": {
        "id": "p-fW-EU5WejJ"
      },
      "source": [
        "_____________________________________________________________________\n",
        "Congrats 🥳, you've just implemented, trained, and uploaded your first Reinforcement Learning agent.\n",
        "\n",
        "Understanding Q-Learning is an **important step to understanding value-based methods.**\n",
        "\n",
        "In the next Unit with Deep Q-Learning, we'll see that while creating and updating a Q-table was a good strategy — **however, it is not scalable.**\n",
        "\n",
        "For instance, imagine you create an agent that learns to play Doom.\n",
        "\n",
        "<img src=\"https://vizdoom.cs.put.edu.pl/user/pages/01.tutorial/basic.png\" alt=\"Doom\"/>\n",
        "\n",
        "Doom is a large environment with a huge state space (millions of different states). Creating and updating a Q-table for that environment would not be efficient.\n",
        "\n",
        "That's why we'll study Deep Q-Learning in the next unit, an algorithm **where we use a neural network that approximates, given a state, the different Q-values for each action.**\n",
        "\n",
        "<img src=\"https://huggingface.co/datasets/huggingface-deep-rl-course/course-images/resolve/main/en/unit4/atari-envs.gif\" alt=\"Environments\"/>\n"
      ]
    },
    {
      "cell_type": "markdown",
      "metadata": {
        "id": "BjLhT70TEZIn"
      },
      "source": [
        "See you in Unit 3! 🔥\n",
        "\n",
        "## Keep learning, stay awesome 🤗"
      ]
    }
  ],
  "metadata": {
    "colab": {
      "private_outputs": true,
      "provenance": [],
      "collapsed_sections": [
        "67OdoKL63eDD",
        "B2_-8b8z5k54",
        "8R5ej1fS4P2V",
        "Pnpk2ePoem3r"
      ],
      "include_colab_link": true
    },
    "kernelspec": {
      "display_name": "Python 3",
      "name": "python3"
    },
    "language_info": {
      "name": "python"
    }
  },
  "nbformat": 4,
  "nbformat_minor": 0
}